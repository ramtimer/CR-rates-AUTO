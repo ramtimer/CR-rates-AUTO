{
 "cells": [
  {
   "cell_type": "code",
   "execution_count": 99,
   "id": "10d3f0bc",
   "metadata": {},
   "outputs": [],
   "source": [
    "import pandas as pd\n",
    "import random\n",
    "import matplotlib.pyplot as plt "
   ]
  },
  {
   "cell_type": "code",
   "execution_count": 2,
   "id": "f4da8bc3",
   "metadata": {},
   "outputs": [],
   "source": [
    "df_hits = pd.read_csv('ga_hits_prep')"
   ]
  },
  {
   "cell_type": "code",
   "execution_count": 3,
   "id": "3a6c8c93",
   "metadata": {},
   "outputs": [
    {
     "data": {
      "text/html": [
       "<div>\n",
       "<style scoped>\n",
       "    .dataframe tbody tr th:only-of-type {\n",
       "        vertical-align: middle;\n",
       "    }\n",
       "\n",
       "    .dataframe tbody tr th {\n",
       "        vertical-align: top;\n",
       "    }\n",
       "\n",
       "    .dataframe thead th {\n",
       "        text-align: right;\n",
       "    }\n",
       "</style>\n",
       "<table border=\"1\" class=\"dataframe\">\n",
       "  <thead>\n",
       "    <tr style=\"text-align: right;\">\n",
       "      <th></th>\n",
       "      <th>Unnamed: 0</th>\n",
       "      <th>session_id</th>\n",
       "      <th>hit_number</th>\n",
       "      <th>hit_referer</th>\n",
       "      <th>hit_page_path</th>\n",
       "      <th>event_action</th>\n",
       "    </tr>\n",
       "  </thead>\n",
       "  <tbody>\n",
       "    <tr>\n",
       "      <th>0</th>\n",
       "      <td>0</td>\n",
       "      <td>5639623078712724064.1640254056.1640254056</td>\n",
       "      <td>30</td>\n",
       "      <td>other</td>\n",
       "      <td>sberauto.com/cars?utm_source_initial=google&amp;ut...</td>\n",
       "      <td>quiz_show</td>\n",
       "    </tr>\n",
       "    <tr>\n",
       "      <th>1</th>\n",
       "      <td>1</td>\n",
       "      <td>7750352294969115059.1640271109.1640271109</td>\n",
       "      <td>41</td>\n",
       "      <td>other</td>\n",
       "      <td>sberauto.com/cars/fiat?city=1&amp;city=18&amp;rental_c...</td>\n",
       "      <td>quiz_show</td>\n",
       "    </tr>\n",
       "    <tr>\n",
       "      <th>2</th>\n",
       "      <td>2</td>\n",
       "      <td>885342191847998240.1640235807.1640235807</td>\n",
       "      <td>49</td>\n",
       "      <td>other</td>\n",
       "      <td>sberauto.com/cars/all/volkswagen/polo/e994838f...</td>\n",
       "      <td>quiz_show</td>\n",
       "    </tr>\n",
       "    <tr>\n",
       "      <th>3</th>\n",
       "      <td>3</td>\n",
       "      <td>142526202120934167.1640211014.1640211014</td>\n",
       "      <td>46</td>\n",
       "      <td>other</td>\n",
       "      <td>sberauto.com/cars?utm_source_initial=yandex&amp;ut...</td>\n",
       "      <td>quiz_show</td>\n",
       "    </tr>\n",
       "    <tr>\n",
       "      <th>4</th>\n",
       "      <td>4</td>\n",
       "      <td>3450086108837475701.1640265078.1640265078</td>\n",
       "      <td>79</td>\n",
       "      <td>other</td>\n",
       "      <td>sberauto.com/cars/all/mercedes-benz/cla-klasse...</td>\n",
       "      <td>quiz_show</td>\n",
       "    </tr>\n",
       "  </tbody>\n",
       "</table>\n",
       "</div>"
      ],
      "text/plain": [
       "   Unnamed: 0                                 session_id  hit_number  \\\n",
       "0           0  5639623078712724064.1640254056.1640254056          30   \n",
       "1           1  7750352294969115059.1640271109.1640271109          41   \n",
       "2           2   885342191847998240.1640235807.1640235807          49   \n",
       "3           3   142526202120934167.1640211014.1640211014          46   \n",
       "4           4  3450086108837475701.1640265078.1640265078          79   \n",
       "\n",
       "  hit_referer                                      hit_page_path event_action  \n",
       "0       other  sberauto.com/cars?utm_source_initial=google&ut...    quiz_show  \n",
       "1       other  sberauto.com/cars/fiat?city=1&city=18&rental_c...    quiz_show  \n",
       "2       other  sberauto.com/cars/all/volkswagen/polo/e994838f...    quiz_show  \n",
       "3       other  sberauto.com/cars?utm_source_initial=yandex&ut...    quiz_show  \n",
       "4       other  sberauto.com/cars/all/mercedes-benz/cla-klasse...    quiz_show  "
      ]
     },
     "execution_count": 3,
     "metadata": {},
     "output_type": "execute_result"
    }
   ],
   "source": [
    "df_hits.head()"
   ]
  },
  {
   "cell_type": "code",
   "execution_count": 4,
   "id": "8904873f",
   "metadata": {},
   "outputs": [],
   "source": [
    "#целевые действия\n",
    "aim =  ['sub_car_claim_click', 'sub_car_claim_submit_click',\n",
    "'sub_open_dialog_click', 'sub_custom_question_submit_click',\n",
    "'sub_call_number_click', 'sub_callback_submit_click', 'sub_submit_success',\n",
    "'sub_car_request_submit_click']"
   ]
  },
  {
   "cell_type": "code",
   "execution_count": 5,
   "id": "463886b5",
   "metadata": {},
   "outputs": [
    {
     "name": "stderr",
     "output_type": "stream",
     "text": [
      "C:\\Users\\admin\\AppData\\Local\\Temp\\ipykernel_896\\3493964733.py:1: DtypeWarning: Columns (2) have mixed types. Specify dtype option on import or set low_memory=False.\n",
      "  df_sessions = pd.read_csv('ga_sessions_prep')\n"
     ]
    }
   ],
   "source": [
    "df_sessions = pd.read_csv('ga_sessions_prep')"
   ]
  },
  {
   "cell_type": "code",
   "execution_count": 6,
   "id": "ca99f836",
   "metadata": {},
   "outputs": [
    {
     "data": {
      "text/html": [
       "<div>\n",
       "<style scoped>\n",
       "    .dataframe tbody tr th:only-of-type {\n",
       "        vertical-align: middle;\n",
       "    }\n",
       "\n",
       "    .dataframe tbody tr th {\n",
       "        vertical-align: top;\n",
       "    }\n",
       "\n",
       "    .dataframe thead th {\n",
       "        text-align: right;\n",
       "    }\n",
       "</style>\n",
       "<table border=\"1\" class=\"dataframe\">\n",
       "  <thead>\n",
       "    <tr style=\"text-align: right;\">\n",
       "      <th></th>\n",
       "      <th>Unnamed: 0</th>\n",
       "      <th>session_id</th>\n",
       "      <th>client_id</th>\n",
       "      <th>visit_number</th>\n",
       "      <th>utm_source</th>\n",
       "      <th>utm_medium</th>\n",
       "      <th>utm_campaign</th>\n",
       "      <th>utm_keyword</th>\n",
       "      <th>device_category</th>\n",
       "      <th>device_os</th>\n",
       "      <th>device_brand</th>\n",
       "      <th>device_browser</th>\n",
       "      <th>geo_country</th>\n",
       "      <th>geo_city</th>\n",
       "    </tr>\n",
       "  </thead>\n",
       "  <tbody>\n",
       "    <tr>\n",
       "      <th>0</th>\n",
       "      <td>0</td>\n",
       "      <td>9055434745589932991.1637753792.1637753792</td>\n",
       "      <td>2108382700.163776</td>\n",
       "      <td>1</td>\n",
       "      <td>ZpYIoDJMcFzVoPFsHGJL</td>\n",
       "      <td>banner</td>\n",
       "      <td>LEoPHuyFvzoNfnzGgfcd</td>\n",
       "      <td>puhZPIYqKXeFPaUviSjo</td>\n",
       "      <td>mobile</td>\n",
       "      <td>Android</td>\n",
       "      <td>Huawei</td>\n",
       "      <td>Chrome</td>\n",
       "      <td>Russia</td>\n",
       "      <td>Zlatoust</td>\n",
       "    </tr>\n",
       "    <tr>\n",
       "      <th>1</th>\n",
       "      <td>1</td>\n",
       "      <td>905544597018549464.1636867290.1636867290</td>\n",
       "      <td>210838531.163687</td>\n",
       "      <td>1</td>\n",
       "      <td>MvfHsxITijuriZxsqZqt</td>\n",
       "      <td>cpm</td>\n",
       "      <td>FTjNLDyTrXaWYgZymFkV</td>\n",
       "      <td>IGUCNvHlhfHpROGclCit</td>\n",
       "      <td>mobile</td>\n",
       "      <td>Android</td>\n",
       "      <td>Samsung</td>\n",
       "      <td>Samsung Internet</td>\n",
       "      <td>Russia</td>\n",
       "      <td>Moscow</td>\n",
       "    </tr>\n",
       "    <tr>\n",
       "      <th>2</th>\n",
       "      <td>2</td>\n",
       "      <td>9055446045651783499.1640648526.1640648526</td>\n",
       "      <td>2108385331.164065</td>\n",
       "      <td>1</td>\n",
       "      <td>ZpYIoDJMcFzVoPFsHGJL</td>\n",
       "      <td>banner</td>\n",
       "      <td>LEoPHuyFvzoNfnzGgfcd</td>\n",
       "      <td>puhZPIYqKXeFPaUviSjo</td>\n",
       "      <td>mobile</td>\n",
       "      <td>Android</td>\n",
       "      <td>Huawei</td>\n",
       "      <td>Chrome</td>\n",
       "      <td>Russia</td>\n",
       "      <td>Krasnoyarsk</td>\n",
       "    </tr>\n",
       "    <tr>\n",
       "      <th>3</th>\n",
       "      <td>3</td>\n",
       "      <td>9055447046360770272.1622255328.1622255328</td>\n",
       "      <td>2108385564.162225</td>\n",
       "      <td>1</td>\n",
       "      <td>kjsLglQLzykiRbcDiGcD</td>\n",
       "      <td>cpc</td>\n",
       "      <td>unknown</td>\n",
       "      <td>unknown</td>\n",
       "      <td>mobile</td>\n",
       "      <td>unknown</td>\n",
       "      <td>Xiaomi</td>\n",
       "      <td>Chrome</td>\n",
       "      <td>Russia</td>\n",
       "      <td>Moscow</td>\n",
       "    </tr>\n",
       "    <tr>\n",
       "      <th>4</th>\n",
       "      <td>4</td>\n",
       "      <td>9055447046360770272.1622255345.1622255345</td>\n",
       "      <td>2108385564.162225</td>\n",
       "      <td>2</td>\n",
       "      <td>kjsLglQLzykiRbcDiGcD</td>\n",
       "      <td>cpc</td>\n",
       "      <td>unknown</td>\n",
       "      <td>unknown</td>\n",
       "      <td>mobile</td>\n",
       "      <td>unknown</td>\n",
       "      <td>Xiaomi</td>\n",
       "      <td>Chrome</td>\n",
       "      <td>Russia</td>\n",
       "      <td>Moscow</td>\n",
       "    </tr>\n",
       "  </tbody>\n",
       "</table>\n",
       "</div>"
      ],
      "text/plain": [
       "   Unnamed: 0                                 session_id          client_id  \\\n",
       "0           0  9055434745589932991.1637753792.1637753792  2108382700.163776   \n",
       "1           1   905544597018549464.1636867290.1636867290   210838531.163687   \n",
       "2           2  9055446045651783499.1640648526.1640648526  2108385331.164065   \n",
       "3           3  9055447046360770272.1622255328.1622255328  2108385564.162225   \n",
       "4           4  9055447046360770272.1622255345.1622255345  2108385564.162225   \n",
       "\n",
       "   visit_number            utm_source utm_medium          utm_campaign  \\\n",
       "0             1  ZpYIoDJMcFzVoPFsHGJL     banner  LEoPHuyFvzoNfnzGgfcd   \n",
       "1             1  MvfHsxITijuriZxsqZqt        cpm  FTjNLDyTrXaWYgZymFkV   \n",
       "2             1  ZpYIoDJMcFzVoPFsHGJL     banner  LEoPHuyFvzoNfnzGgfcd   \n",
       "3             1  kjsLglQLzykiRbcDiGcD        cpc               unknown   \n",
       "4             2  kjsLglQLzykiRbcDiGcD        cpc               unknown   \n",
       "\n",
       "            utm_keyword device_category device_os device_brand  \\\n",
       "0  puhZPIYqKXeFPaUviSjo          mobile   Android       Huawei   \n",
       "1  IGUCNvHlhfHpROGclCit          mobile   Android      Samsung   \n",
       "2  puhZPIYqKXeFPaUviSjo          mobile   Android       Huawei   \n",
       "3               unknown          mobile   unknown       Xiaomi   \n",
       "4               unknown          mobile   unknown       Xiaomi   \n",
       "\n",
       "     device_browser geo_country     geo_city  \n",
       "0            Chrome      Russia     Zlatoust  \n",
       "1  Samsung Internet      Russia       Moscow  \n",
       "2            Chrome      Russia  Krasnoyarsk  \n",
       "3            Chrome      Russia       Moscow  \n",
       "4            Chrome      Russia       Moscow  "
      ]
     },
     "execution_count": 6,
     "metadata": {},
     "output_type": "execute_result"
    }
   ],
   "source": [
    "df_sessions.head(5)"
   ]
  },
  {
   "cell_type": "code",
   "execution_count": 7,
   "id": "ba2a2e47",
   "metadata": {},
   "outputs": [],
   "source": [
    "#Объединим два датасета по session id\n",
    "df_merge = df_sessions.merge(df_hits, how = 'left', on = 'session_id')"
   ]
  },
  {
   "cell_type": "code",
   "execution_count": 8,
   "id": "5c7f5a84",
   "metadata": {},
   "outputs": [
    {
     "data": {
      "text/html": [
       "<div>\n",
       "<style scoped>\n",
       "    .dataframe tbody tr th:only-of-type {\n",
       "        vertical-align: middle;\n",
       "    }\n",
       "\n",
       "    .dataframe tbody tr th {\n",
       "        vertical-align: top;\n",
       "    }\n",
       "\n",
       "    .dataframe thead th {\n",
       "        text-align: right;\n",
       "    }\n",
       "</style>\n",
       "<table border=\"1\" class=\"dataframe\">\n",
       "  <thead>\n",
       "    <tr style=\"text-align: right;\">\n",
       "      <th></th>\n",
       "      <th>Unnamed: 0_x</th>\n",
       "      <th>session_id</th>\n",
       "      <th>client_id</th>\n",
       "      <th>visit_number</th>\n",
       "      <th>utm_source</th>\n",
       "      <th>utm_medium</th>\n",
       "      <th>utm_campaign</th>\n",
       "      <th>utm_keyword</th>\n",
       "      <th>device_category</th>\n",
       "      <th>device_os</th>\n",
       "      <th>device_brand</th>\n",
       "      <th>device_browser</th>\n",
       "      <th>geo_country</th>\n",
       "      <th>geo_city</th>\n",
       "      <th>Unnamed: 0_y</th>\n",
       "      <th>hit_number</th>\n",
       "      <th>hit_referer</th>\n",
       "      <th>hit_page_path</th>\n",
       "      <th>event_action</th>\n",
       "    </tr>\n",
       "  </thead>\n",
       "  <tbody>\n",
       "    <tr>\n",
       "      <th>0</th>\n",
       "      <td>0</td>\n",
       "      <td>9055434745589932991.1637753792.1637753792</td>\n",
       "      <td>2108382700.163776</td>\n",
       "      <td>1</td>\n",
       "      <td>ZpYIoDJMcFzVoPFsHGJL</td>\n",
       "      <td>banner</td>\n",
       "      <td>LEoPHuyFvzoNfnzGgfcd</td>\n",
       "      <td>puhZPIYqKXeFPaUviSjo</td>\n",
       "      <td>mobile</td>\n",
       "      <td>Android</td>\n",
       "      <td>Huawei</td>\n",
       "      <td>Chrome</td>\n",
       "      <td>Russia</td>\n",
       "      <td>Zlatoust</td>\n",
       "      <td>1614540.0</td>\n",
       "      <td>3.0</td>\n",
       "      <td>other</td>\n",
       "      <td>podpiska.sberauto.com/</td>\n",
       "      <td>sub_landing</td>\n",
       "    </tr>\n",
       "    <tr>\n",
       "      <th>1</th>\n",
       "      <td>0</td>\n",
       "      <td>9055434745589932991.1637753792.1637753792</td>\n",
       "      <td>2108382700.163776</td>\n",
       "      <td>1</td>\n",
       "      <td>ZpYIoDJMcFzVoPFsHGJL</td>\n",
       "      <td>banner</td>\n",
       "      <td>LEoPHuyFvzoNfnzGgfcd</td>\n",
       "      <td>puhZPIYqKXeFPaUviSjo</td>\n",
       "      <td>mobile</td>\n",
       "      <td>Android</td>\n",
       "      <td>Huawei</td>\n",
       "      <td>Chrome</td>\n",
       "      <td>Russia</td>\n",
       "      <td>Zlatoust</td>\n",
       "      <td>1615093.0</td>\n",
       "      <td>4.0</td>\n",
       "      <td>other</td>\n",
       "      <td>podpiska.sberauto.com/</td>\n",
       "      <td>sub_view_cars_click</td>\n",
       "    </tr>\n",
       "    <tr>\n",
       "      <th>2</th>\n",
       "      <td>1</td>\n",
       "      <td>905544597018549464.1636867290.1636867290</td>\n",
       "      <td>210838531.163687</td>\n",
       "      <td>1</td>\n",
       "      <td>MvfHsxITijuriZxsqZqt</td>\n",
       "      <td>cpm</td>\n",
       "      <td>FTjNLDyTrXaWYgZymFkV</td>\n",
       "      <td>IGUCNvHlhfHpROGclCit</td>\n",
       "      <td>mobile</td>\n",
       "      <td>Android</td>\n",
       "      <td>Samsung</td>\n",
       "      <td>Samsung Internet</td>\n",
       "      <td>Russia</td>\n",
       "      <td>Moscow</td>\n",
       "      <td>1211514.0</td>\n",
       "      <td>3.0</td>\n",
       "      <td>other</td>\n",
       "      <td>podpiska.sberauto.com/</td>\n",
       "      <td>sub_landing</td>\n",
       "    </tr>\n",
       "    <tr>\n",
       "      <th>3</th>\n",
       "      <td>2</td>\n",
       "      <td>9055446045651783499.1640648526.1640648526</td>\n",
       "      <td>2108385331.164065</td>\n",
       "      <td>1</td>\n",
       "      <td>ZpYIoDJMcFzVoPFsHGJL</td>\n",
       "      <td>banner</td>\n",
       "      <td>LEoPHuyFvzoNfnzGgfcd</td>\n",
       "      <td>puhZPIYqKXeFPaUviSjo</td>\n",
       "      <td>mobile</td>\n",
       "      <td>Android</td>\n",
       "      <td>Huawei</td>\n",
       "      <td>Chrome</td>\n",
       "      <td>Russia</td>\n",
       "      <td>Krasnoyarsk</td>\n",
       "      <td>1496106.0</td>\n",
       "      <td>10.0</td>\n",
       "      <td>other</td>\n",
       "      <td>sberauto.com/cars?utm_source_initial=sbol&amp;utm_...</td>\n",
       "      <td>search_form_region</td>\n",
       "    </tr>\n",
       "    <tr>\n",
       "      <th>4</th>\n",
       "      <td>2</td>\n",
       "      <td>9055446045651783499.1640648526.1640648526</td>\n",
       "      <td>2108385331.164065</td>\n",
       "      <td>1</td>\n",
       "      <td>ZpYIoDJMcFzVoPFsHGJL</td>\n",
       "      <td>banner</td>\n",
       "      <td>LEoPHuyFvzoNfnzGgfcd</td>\n",
       "      <td>puhZPIYqKXeFPaUviSjo</td>\n",
       "      <td>mobile</td>\n",
       "      <td>Android</td>\n",
       "      <td>Huawei</td>\n",
       "      <td>Chrome</td>\n",
       "      <td>Russia</td>\n",
       "      <td>Krasnoyarsk</td>\n",
       "      <td>2057760.0</td>\n",
       "      <td>13.0</td>\n",
       "      <td>other</td>\n",
       "      <td>sberauto.com/cars?utm_source_initial=sbol&amp;utm_...</td>\n",
       "      <td>search_form_region</td>\n",
       "    </tr>\n",
       "    <tr>\n",
       "      <th>...</th>\n",
       "      <td>...</td>\n",
       "      <td>...</td>\n",
       "      <td>...</td>\n",
       "      <td>...</td>\n",
       "      <td>...</td>\n",
       "      <td>...</td>\n",
       "      <td>...</td>\n",
       "      <td>...</td>\n",
       "      <td>...</td>\n",
       "      <td>...</td>\n",
       "      <td>...</td>\n",
       "      <td>...</td>\n",
       "      <td>...</td>\n",
       "      <td>...</td>\n",
       "      <td>...</td>\n",
       "      <td>...</td>\n",
       "      <td>...</td>\n",
       "      <td>...</td>\n",
       "      <td>...</td>\n",
       "    </tr>\n",
       "    <tr>\n",
       "      <th>15812990</th>\n",
       "      <td>1860041</td>\n",
       "      <td>9055430416266113553.1640968742.1640968742</td>\n",
       "      <td>2108381692.164097</td>\n",
       "      <td>1</td>\n",
       "      <td>fgymSoTvjKPEgaIJqsiH</td>\n",
       "      <td>cpm</td>\n",
       "      <td>FTjNLDyTrXaWYgZymFkV</td>\n",
       "      <td>oKjXDUsycmahkgMhGdAR</td>\n",
       "      <td>desktop</td>\n",
       "      <td>Linux</td>\n",
       "      <td>unknown</td>\n",
       "      <td>Chrome</td>\n",
       "      <td>Russia</td>\n",
       "      <td>Moscow</td>\n",
       "      <td>3590125.0</td>\n",
       "      <td>11.0</td>\n",
       "      <td>other</td>\n",
       "      <td>sberauto.com/cars/all/bmw/3-serii/bde2c9d5?utm...</td>\n",
       "      <td>view_card</td>\n",
       "    </tr>\n",
       "    <tr>\n",
       "      <th>15812991</th>\n",
       "      <td>1860041</td>\n",
       "      <td>9055430416266113553.1640968742.1640968742</td>\n",
       "      <td>2108381692.164097</td>\n",
       "      <td>1</td>\n",
       "      <td>fgymSoTvjKPEgaIJqsiH</td>\n",
       "      <td>cpm</td>\n",
       "      <td>FTjNLDyTrXaWYgZymFkV</td>\n",
       "      <td>oKjXDUsycmahkgMhGdAR</td>\n",
       "      <td>desktop</td>\n",
       "      <td>Linux</td>\n",
       "      <td>unknown</td>\n",
       "      <td>Chrome</td>\n",
       "      <td>Russia</td>\n",
       "      <td>Moscow</td>\n",
       "      <td>3590126.0</td>\n",
       "      <td>16.0</td>\n",
       "      <td>other</td>\n",
       "      <td>sberauto.com/cars/all/bmw/3-serii/bde2c9d5?utm...</td>\n",
       "      <td>view_new_card</td>\n",
       "    </tr>\n",
       "    <tr>\n",
       "      <th>15812992</th>\n",
       "      <td>1860041</td>\n",
       "      <td>9055430416266113553.1640968742.1640968742</td>\n",
       "      <td>2108381692.164097</td>\n",
       "      <td>1</td>\n",
       "      <td>fgymSoTvjKPEgaIJqsiH</td>\n",
       "      <td>cpm</td>\n",
       "      <td>FTjNLDyTrXaWYgZymFkV</td>\n",
       "      <td>oKjXDUsycmahkgMhGdAR</td>\n",
       "      <td>desktop</td>\n",
       "      <td>Linux</td>\n",
       "      <td>unknown</td>\n",
       "      <td>Chrome</td>\n",
       "      <td>Russia</td>\n",
       "      <td>Moscow</td>\n",
       "      <td>14825167.0</td>\n",
       "      <td>3.0</td>\n",
       "      <td>other</td>\n",
       "      <td>sberauto.com/cars/all/mercedes-benz/e-klasse/d...</td>\n",
       "      <td>view_card</td>\n",
       "    </tr>\n",
       "    <tr>\n",
       "      <th>15812993</th>\n",
       "      <td>1860041</td>\n",
       "      <td>9055430416266113553.1640968742.1640968742</td>\n",
       "      <td>2108381692.164097</td>\n",
       "      <td>1</td>\n",
       "      <td>fgymSoTvjKPEgaIJqsiH</td>\n",
       "      <td>cpm</td>\n",
       "      <td>FTjNLDyTrXaWYgZymFkV</td>\n",
       "      <td>oKjXDUsycmahkgMhGdAR</td>\n",
       "      <td>desktop</td>\n",
       "      <td>Linux</td>\n",
       "      <td>unknown</td>\n",
       "      <td>Chrome</td>\n",
       "      <td>Russia</td>\n",
       "      <td>Moscow</td>\n",
       "      <td>14825168.0</td>\n",
       "      <td>14.0</td>\n",
       "      <td>other</td>\n",
       "      <td>sberauto.com/cars/all/bmw/3-serii/bde2c9d5?utm...</td>\n",
       "      <td>view_card</td>\n",
       "    </tr>\n",
       "    <tr>\n",
       "      <th>15812994</th>\n",
       "      <td>1860041</td>\n",
       "      <td>9055430416266113553.1640968742.1640968742</td>\n",
       "      <td>2108381692.164097</td>\n",
       "      <td>1</td>\n",
       "      <td>fgymSoTvjKPEgaIJqsiH</td>\n",
       "      <td>cpm</td>\n",
       "      <td>FTjNLDyTrXaWYgZymFkV</td>\n",
       "      <td>oKjXDUsycmahkgMhGdAR</td>\n",
       "      <td>desktop</td>\n",
       "      <td>Linux</td>\n",
       "      <td>unknown</td>\n",
       "      <td>Chrome</td>\n",
       "      <td>Russia</td>\n",
       "      <td>Moscow</td>\n",
       "      <td>15386751.0</td>\n",
       "      <td>17.0</td>\n",
       "      <td>other</td>\n",
       "      <td>sberauto.com/cars/all/bmw/3-serii/bde2c9d5?utm...</td>\n",
       "      <td>view_card</td>\n",
       "    </tr>\n",
       "  </tbody>\n",
       "</table>\n",
       "<p>15812995 rows × 19 columns</p>\n",
       "</div>"
      ],
      "text/plain": [
       "          Unnamed: 0_x                                 session_id  \\\n",
       "0                    0  9055434745589932991.1637753792.1637753792   \n",
       "1                    0  9055434745589932991.1637753792.1637753792   \n",
       "2                    1   905544597018549464.1636867290.1636867290   \n",
       "3                    2  9055446045651783499.1640648526.1640648526   \n",
       "4                    2  9055446045651783499.1640648526.1640648526   \n",
       "...                ...                                        ...   \n",
       "15812990       1860041  9055430416266113553.1640968742.1640968742   \n",
       "15812991       1860041  9055430416266113553.1640968742.1640968742   \n",
       "15812992       1860041  9055430416266113553.1640968742.1640968742   \n",
       "15812993       1860041  9055430416266113553.1640968742.1640968742   \n",
       "15812994       1860041  9055430416266113553.1640968742.1640968742   \n",
       "\n",
       "                  client_id  visit_number            utm_source utm_medium  \\\n",
       "0         2108382700.163776             1  ZpYIoDJMcFzVoPFsHGJL     banner   \n",
       "1         2108382700.163776             1  ZpYIoDJMcFzVoPFsHGJL     banner   \n",
       "2          210838531.163687             1  MvfHsxITijuriZxsqZqt        cpm   \n",
       "3         2108385331.164065             1  ZpYIoDJMcFzVoPFsHGJL     banner   \n",
       "4         2108385331.164065             1  ZpYIoDJMcFzVoPFsHGJL     banner   \n",
       "...                     ...           ...                   ...        ...   \n",
       "15812990  2108381692.164097             1  fgymSoTvjKPEgaIJqsiH        cpm   \n",
       "15812991  2108381692.164097             1  fgymSoTvjKPEgaIJqsiH        cpm   \n",
       "15812992  2108381692.164097             1  fgymSoTvjKPEgaIJqsiH        cpm   \n",
       "15812993  2108381692.164097             1  fgymSoTvjKPEgaIJqsiH        cpm   \n",
       "15812994  2108381692.164097             1  fgymSoTvjKPEgaIJqsiH        cpm   \n",
       "\n",
       "                  utm_campaign           utm_keyword device_category  \\\n",
       "0         LEoPHuyFvzoNfnzGgfcd  puhZPIYqKXeFPaUviSjo          mobile   \n",
       "1         LEoPHuyFvzoNfnzGgfcd  puhZPIYqKXeFPaUviSjo          mobile   \n",
       "2         FTjNLDyTrXaWYgZymFkV  IGUCNvHlhfHpROGclCit          mobile   \n",
       "3         LEoPHuyFvzoNfnzGgfcd  puhZPIYqKXeFPaUviSjo          mobile   \n",
       "4         LEoPHuyFvzoNfnzGgfcd  puhZPIYqKXeFPaUviSjo          mobile   \n",
       "...                        ...                   ...             ...   \n",
       "15812990  FTjNLDyTrXaWYgZymFkV  oKjXDUsycmahkgMhGdAR         desktop   \n",
       "15812991  FTjNLDyTrXaWYgZymFkV  oKjXDUsycmahkgMhGdAR         desktop   \n",
       "15812992  FTjNLDyTrXaWYgZymFkV  oKjXDUsycmahkgMhGdAR         desktop   \n",
       "15812993  FTjNLDyTrXaWYgZymFkV  oKjXDUsycmahkgMhGdAR         desktop   \n",
       "15812994  FTjNLDyTrXaWYgZymFkV  oKjXDUsycmahkgMhGdAR         desktop   \n",
       "\n",
       "         device_os device_brand    device_browser geo_country     geo_city  \\\n",
       "0          Android       Huawei            Chrome      Russia     Zlatoust   \n",
       "1          Android       Huawei            Chrome      Russia     Zlatoust   \n",
       "2          Android      Samsung  Samsung Internet      Russia       Moscow   \n",
       "3          Android       Huawei            Chrome      Russia  Krasnoyarsk   \n",
       "4          Android       Huawei            Chrome      Russia  Krasnoyarsk   \n",
       "...            ...          ...               ...         ...          ...   \n",
       "15812990     Linux      unknown            Chrome      Russia       Moscow   \n",
       "15812991     Linux      unknown            Chrome      Russia       Moscow   \n",
       "15812992     Linux      unknown            Chrome      Russia       Moscow   \n",
       "15812993     Linux      unknown            Chrome      Russia       Moscow   \n",
       "15812994     Linux      unknown            Chrome      Russia       Moscow   \n",
       "\n",
       "          Unnamed: 0_y  hit_number hit_referer  \\\n",
       "0            1614540.0         3.0       other   \n",
       "1            1615093.0         4.0       other   \n",
       "2            1211514.0         3.0       other   \n",
       "3            1496106.0        10.0       other   \n",
       "4            2057760.0        13.0       other   \n",
       "...                ...         ...         ...   \n",
       "15812990     3590125.0        11.0       other   \n",
       "15812991     3590126.0        16.0       other   \n",
       "15812992    14825167.0         3.0       other   \n",
       "15812993    14825168.0        14.0       other   \n",
       "15812994    15386751.0        17.0       other   \n",
       "\n",
       "                                              hit_page_path  \\\n",
       "0                                    podpiska.sberauto.com/   \n",
       "1                                    podpiska.sberauto.com/   \n",
       "2                                    podpiska.sberauto.com/   \n",
       "3         sberauto.com/cars?utm_source_initial=sbol&utm_...   \n",
       "4         sberauto.com/cars?utm_source_initial=sbol&utm_...   \n",
       "...                                                     ...   \n",
       "15812990  sberauto.com/cars/all/bmw/3-serii/bde2c9d5?utm...   \n",
       "15812991  sberauto.com/cars/all/bmw/3-serii/bde2c9d5?utm...   \n",
       "15812992  sberauto.com/cars/all/mercedes-benz/e-klasse/d...   \n",
       "15812993  sberauto.com/cars/all/bmw/3-serii/bde2c9d5?utm...   \n",
       "15812994  sberauto.com/cars/all/bmw/3-serii/bde2c9d5?utm...   \n",
       "\n",
       "                 event_action  \n",
       "0                 sub_landing  \n",
       "1         sub_view_cars_click  \n",
       "2                 sub_landing  \n",
       "3          search_form_region  \n",
       "4          search_form_region  \n",
       "...                       ...  \n",
       "15812990            view_card  \n",
       "15812991        view_new_card  \n",
       "15812992            view_card  \n",
       "15812993            view_card  \n",
       "15812994            view_card  \n",
       "\n",
       "[15812995 rows x 19 columns]"
      ]
     },
     "execution_count": 8,
     "metadata": {},
     "output_type": "execute_result"
    }
   ],
   "source": [
    "df_merge"
   ]
  },
  {
   "cell_type": "code",
   "execution_count": 9,
   "id": "d1fd5144",
   "metadata": {},
   "outputs": [
    {
     "data": {
      "text/plain": [
       "127776"
      ]
     },
     "execution_count": 9,
     "metadata": {},
     "output_type": "execute_result"
    }
   ],
   "source": [
    "len(df_merge[df_merge.event_action.isna()])"
   ]
  },
  {
   "cell_type": "code",
   "execution_count": 10,
   "id": "bdd22d86",
   "metadata": {},
   "outputs": [
    {
     "data": {
      "text/html": [
       "<div>\n",
       "<style scoped>\n",
       "    .dataframe tbody tr th:only-of-type {\n",
       "        vertical-align: middle;\n",
       "    }\n",
       "\n",
       "    .dataframe tbody tr th {\n",
       "        vertical-align: top;\n",
       "    }\n",
       "\n",
       "    .dataframe thead th {\n",
       "        text-align: right;\n",
       "    }\n",
       "</style>\n",
       "<table border=\"1\" class=\"dataframe\">\n",
       "  <thead>\n",
       "    <tr style=\"text-align: right;\">\n",
       "      <th></th>\n",
       "      <th>Unnamed: 0</th>\n",
       "      <th>session_id</th>\n",
       "      <th>hit_number</th>\n",
       "      <th>hit_referer</th>\n",
       "      <th>hit_page_path</th>\n",
       "      <th>event_action</th>\n",
       "    </tr>\n",
       "  </thead>\n",
       "  <tbody>\n",
       "    <tr>\n",
       "      <th>1614540</th>\n",
       "      <td>1614540</td>\n",
       "      <td>9055434745589932991.1637753792.1637753792</td>\n",
       "      <td>3</td>\n",
       "      <td>other</td>\n",
       "      <td>podpiska.sberauto.com/</td>\n",
       "      <td>sub_landing</td>\n",
       "    </tr>\n",
       "    <tr>\n",
       "      <th>1615093</th>\n",
       "      <td>1615093</td>\n",
       "      <td>9055434745589932991.1637753792.1637753792</td>\n",
       "      <td>4</td>\n",
       "      <td>other</td>\n",
       "      <td>podpiska.sberauto.com/</td>\n",
       "      <td>sub_view_cars_click</td>\n",
       "    </tr>\n",
       "  </tbody>\n",
       "</table>\n",
       "</div>"
      ],
      "text/plain": [
       "         Unnamed: 0                                 session_id  hit_number  \\\n",
       "1614540     1614540  9055434745589932991.1637753792.1637753792           3   \n",
       "1615093     1615093  9055434745589932991.1637753792.1637753792           4   \n",
       "\n",
       "        hit_referer           hit_page_path         event_action  \n",
       "1614540       other  podpiska.sberauto.com/          sub_landing  \n",
       "1615093       other  podpiska.sberauto.com/  sub_view_cars_click  "
      ]
     },
     "execution_count": 10,
     "metadata": {},
     "output_type": "execute_result"
    }
   ],
   "source": [
    "df_hits[df_hits.session_id == '9055434745589932991.1637753792.1637753792']"
   ]
  },
  {
   "cell_type": "markdown",
   "id": "22cec93d",
   "metadata": {},
   "source": [
    "# Проверка гипотезы органического и платного траффика"
   ]
  },
  {
   "cell_type": "code",
   "execution_count": 11,
   "id": "3930eb05",
   "metadata": {},
   "outputs": [],
   "source": [
    "org_list = ['organic', 'referral', '(none)']"
   ]
  },
  {
   "cell_type": "code",
   "execution_count": 12,
   "id": "8e6025a2",
   "metadata": {},
   "outputs": [],
   "source": [
    "df_organic = df_merge[df_merge.utm_medium.isin(org_list)]"
   ]
  },
  {
   "cell_type": "code",
   "execution_count": 13,
   "id": "866bdacc",
   "metadata": {},
   "outputs": [
    {
     "data": {
      "text/html": [
       "<div>\n",
       "<style scoped>\n",
       "    .dataframe tbody tr th:only-of-type {\n",
       "        vertical-align: middle;\n",
       "    }\n",
       "\n",
       "    .dataframe tbody tr th {\n",
       "        vertical-align: top;\n",
       "    }\n",
       "\n",
       "    .dataframe thead th {\n",
       "        text-align: right;\n",
       "    }\n",
       "</style>\n",
       "<table border=\"1\" class=\"dataframe\">\n",
       "  <thead>\n",
       "    <tr style=\"text-align: right;\">\n",
       "      <th></th>\n",
       "      <th>Unnamed: 0_x</th>\n",
       "      <th>session_id</th>\n",
       "      <th>client_id</th>\n",
       "      <th>visit_number</th>\n",
       "      <th>utm_source</th>\n",
       "      <th>utm_medium</th>\n",
       "      <th>utm_campaign</th>\n",
       "      <th>utm_keyword</th>\n",
       "      <th>device_category</th>\n",
       "      <th>device_os</th>\n",
       "      <th>device_brand</th>\n",
       "      <th>device_browser</th>\n",
       "      <th>geo_country</th>\n",
       "      <th>geo_city</th>\n",
       "      <th>Unnamed: 0_y</th>\n",
       "      <th>hit_number</th>\n",
       "      <th>hit_referer</th>\n",
       "      <th>hit_page_path</th>\n",
       "      <th>event_action</th>\n",
       "    </tr>\n",
       "  </thead>\n",
       "  <tbody>\n",
       "    <tr>\n",
       "      <th>24</th>\n",
       "      <td>5</td>\n",
       "      <td>9055447192389856083.1622453074.1622453074</td>\n",
       "      <td>2108385598.162245</td>\n",
       "      <td>1</td>\n",
       "      <td>kjsLglQLzykiRbcDiGcD</td>\n",
       "      <td>organic</td>\n",
       "      <td>LTuZkdKfxRGVceoWkVyg</td>\n",
       "      <td>unknown</td>\n",
       "      <td>mobile</td>\n",
       "      <td>unknown</td>\n",
       "      <td>Apple</td>\n",
       "      <td>Safari</td>\n",
       "      <td>Russia</td>\n",
       "      <td>Saint Petersburg</td>\n",
       "      <td>4638963.0</td>\n",
       "      <td>5.0</td>\n",
       "      <td>HbolMJUevblAbkHClEQa</td>\n",
       "      <td>podpiska.sberauto.com/</td>\n",
       "      <td>sub_landing</td>\n",
       "    </tr>\n",
       "    <tr>\n",
       "      <th>25</th>\n",
       "      <td>5</td>\n",
       "      <td>9055447192389856083.1622453074.1622453074</td>\n",
       "      <td>2108385598.162245</td>\n",
       "      <td>1</td>\n",
       "      <td>kjsLglQLzykiRbcDiGcD</td>\n",
       "      <td>organic</td>\n",
       "      <td>LTuZkdKfxRGVceoWkVyg</td>\n",
       "      <td>unknown</td>\n",
       "      <td>mobile</td>\n",
       "      <td>unknown</td>\n",
       "      <td>Apple</td>\n",
       "      <td>Safari</td>\n",
       "      <td>Russia</td>\n",
       "      <td>Saint Petersburg</td>\n",
       "      <td>4643037.0</td>\n",
       "      <td>6.0</td>\n",
       "      <td>HbolMJUevblAbkHClEQa</td>\n",
       "      <td>podpiska.sberauto.com/</td>\n",
       "      <td>sub_view_cars_click</td>\n",
       "    </tr>\n",
       "    <tr>\n",
       "      <th>26</th>\n",
       "      <td>5</td>\n",
       "      <td>9055447192389856083.1622453074.1622453074</td>\n",
       "      <td>2108385598.162245</td>\n",
       "      <td>1</td>\n",
       "      <td>kjsLglQLzykiRbcDiGcD</td>\n",
       "      <td>organic</td>\n",
       "      <td>LTuZkdKfxRGVceoWkVyg</td>\n",
       "      <td>unknown</td>\n",
       "      <td>mobile</td>\n",
       "      <td>unknown</td>\n",
       "      <td>Apple</td>\n",
       "      <td>Safari</td>\n",
       "      <td>Russia</td>\n",
       "      <td>Saint Petersburg</td>\n",
       "      <td>4669742.0</td>\n",
       "      <td>25.0</td>\n",
       "      <td>HbolMJUevblAbkHClEQa</td>\n",
       "      <td>sberauto.com/cars/e1f862ea?rental_page=rental_car</td>\n",
       "      <td>view_card</td>\n",
       "    </tr>\n",
       "    <tr>\n",
       "      <th>27</th>\n",
       "      <td>5</td>\n",
       "      <td>9055447192389856083.1622453074.1622453074</td>\n",
       "      <td>2108385598.162245</td>\n",
       "      <td>1</td>\n",
       "      <td>kjsLglQLzykiRbcDiGcD</td>\n",
       "      <td>organic</td>\n",
       "      <td>LTuZkdKfxRGVceoWkVyg</td>\n",
       "      <td>unknown</td>\n",
       "      <td>mobile</td>\n",
       "      <td>unknown</td>\n",
       "      <td>Apple</td>\n",
       "      <td>Safari</td>\n",
       "      <td>Russia</td>\n",
       "      <td>Saint Petersburg</td>\n",
       "      <td>4669745.0</td>\n",
       "      <td>27.0</td>\n",
       "      <td>HbolMJUevblAbkHClEQa</td>\n",
       "      <td>sberauto.com/cars/e1f862ea?rental_page=rental_car</td>\n",
       "      <td>view_card</td>\n",
       "    </tr>\n",
       "    <tr>\n",
       "      <th>28</th>\n",
       "      <td>5</td>\n",
       "      <td>9055447192389856083.1622453074.1622453074</td>\n",
       "      <td>2108385598.162245</td>\n",
       "      <td>1</td>\n",
       "      <td>kjsLglQLzykiRbcDiGcD</td>\n",
       "      <td>organic</td>\n",
       "      <td>LTuZkdKfxRGVceoWkVyg</td>\n",
       "      <td>unknown</td>\n",
       "      <td>mobile</td>\n",
       "      <td>unknown</td>\n",
       "      <td>Apple</td>\n",
       "      <td>Safari</td>\n",
       "      <td>Russia</td>\n",
       "      <td>Saint Petersburg</td>\n",
       "      <td>4669754.0</td>\n",
       "      <td>34.0</td>\n",
       "      <td>HbolMJUevblAbkHClEQa</td>\n",
       "      <td>sberauto.com/cars/e1f862ea?rental_page=rental_car</td>\n",
       "      <td>view_card</td>\n",
       "    </tr>\n",
       "    <tr>\n",
       "      <th>...</th>\n",
       "      <td>...</td>\n",
       "      <td>...</td>\n",
       "      <td>...</td>\n",
       "      <td>...</td>\n",
       "      <td>...</td>\n",
       "      <td>...</td>\n",
       "      <td>...</td>\n",
       "      <td>...</td>\n",
       "      <td>...</td>\n",
       "      <td>...</td>\n",
       "      <td>...</td>\n",
       "      <td>...</td>\n",
       "      <td>...</td>\n",
       "      <td>...</td>\n",
       "      <td>...</td>\n",
       "      <td>...</td>\n",
       "      <td>...</td>\n",
       "      <td>...</td>\n",
       "      <td>...</td>\n",
       "    </tr>\n",
       "    <tr>\n",
       "      <th>15812975</th>\n",
       "      <td>1860039</td>\n",
       "      <td>9055422955903931195.1636979515.1636979515</td>\n",
       "      <td>2108379955.163697</td>\n",
       "      <td>1</td>\n",
       "      <td>fDLlAcSmythWSCVMvqvL</td>\n",
       "      <td>(none)</td>\n",
       "      <td>LTuZkdKfxRGVceoWkVyg</td>\n",
       "      <td>puhZPIYqKXeFPaUviSjo</td>\n",
       "      <td>mobile</td>\n",
       "      <td>iOS</td>\n",
       "      <td>Apple</td>\n",
       "      <td>Safari</td>\n",
       "      <td>Russia</td>\n",
       "      <td>Moscow</td>\n",
       "      <td>14638264.0</td>\n",
       "      <td>55.0</td>\n",
       "      <td>other</td>\n",
       "      <td>sberauto.com/cars/all/mercedes-benz/glc/f8f330...</td>\n",
       "      <td>view_new_card</td>\n",
       "    </tr>\n",
       "    <tr>\n",
       "      <th>15812976</th>\n",
       "      <td>1860039</td>\n",
       "      <td>9055422955903931195.1636979515.1636979515</td>\n",
       "      <td>2108379955.163697</td>\n",
       "      <td>1</td>\n",
       "      <td>fDLlAcSmythWSCVMvqvL</td>\n",
       "      <td>(none)</td>\n",
       "      <td>LTuZkdKfxRGVceoWkVyg</td>\n",
       "      <td>puhZPIYqKXeFPaUviSjo</td>\n",
       "      <td>mobile</td>\n",
       "      <td>iOS</td>\n",
       "      <td>Apple</td>\n",
       "      <td>Safari</td>\n",
       "      <td>Russia</td>\n",
       "      <td>Moscow</td>\n",
       "      <td>14764632.0</td>\n",
       "      <td>16.0</td>\n",
       "      <td>other</td>\n",
       "      <td>sberauto.com/cars/all/mercedes-benz/e-klasse/d...</td>\n",
       "      <td>view_card</td>\n",
       "    </tr>\n",
       "    <tr>\n",
       "      <th>15812977</th>\n",
       "      <td>1860039</td>\n",
       "      <td>9055422955903931195.1636979515.1636979515</td>\n",
       "      <td>2108379955.163697</td>\n",
       "      <td>1</td>\n",
       "      <td>fDLlAcSmythWSCVMvqvL</td>\n",
       "      <td>(none)</td>\n",
       "      <td>LTuZkdKfxRGVceoWkVyg</td>\n",
       "      <td>puhZPIYqKXeFPaUviSjo</td>\n",
       "      <td>mobile</td>\n",
       "      <td>iOS</td>\n",
       "      <td>Apple</td>\n",
       "      <td>Safari</td>\n",
       "      <td>Russia</td>\n",
       "      <td>Moscow</td>\n",
       "      <td>15321375.0</td>\n",
       "      <td>3.0</td>\n",
       "      <td>other</td>\n",
       "      <td>podpiska.sberauto.com/</td>\n",
       "      <td>sub_landing</td>\n",
       "    </tr>\n",
       "    <tr>\n",
       "      <th>15812978</th>\n",
       "      <td>1860039</td>\n",
       "      <td>9055422955903931195.1636979515.1636979515</td>\n",
       "      <td>2108379955.163697</td>\n",
       "      <td>1</td>\n",
       "      <td>fDLlAcSmythWSCVMvqvL</td>\n",
       "      <td>(none)</td>\n",
       "      <td>LTuZkdKfxRGVceoWkVyg</td>\n",
       "      <td>puhZPIYqKXeFPaUviSjo</td>\n",
       "      <td>mobile</td>\n",
       "      <td>iOS</td>\n",
       "      <td>Apple</td>\n",
       "      <td>Safari</td>\n",
       "      <td>Russia</td>\n",
       "      <td>Moscow</td>\n",
       "      <td>15325732.0</td>\n",
       "      <td>13.0</td>\n",
       "      <td>other</td>\n",
       "      <td>sberauto.com/cars/all/mercedes-benz/e-klasse/d...</td>\n",
       "      <td>view_new_card</td>\n",
       "    </tr>\n",
       "    <tr>\n",
       "      <th>15812979</th>\n",
       "      <td>1860039</td>\n",
       "      <td>9055422955903931195.1636979515.1636979515</td>\n",
       "      <td>2108379955.163697</td>\n",
       "      <td>1</td>\n",
       "      <td>fDLlAcSmythWSCVMvqvL</td>\n",
       "      <td>(none)</td>\n",
       "      <td>LTuZkdKfxRGVceoWkVyg</td>\n",
       "      <td>puhZPIYqKXeFPaUviSjo</td>\n",
       "      <td>mobile</td>\n",
       "      <td>iOS</td>\n",
       "      <td>Apple</td>\n",
       "      <td>Safari</td>\n",
       "      <td>Russia</td>\n",
       "      <td>Moscow</td>\n",
       "      <td>15325733.0</td>\n",
       "      <td>17.0</td>\n",
       "      <td>other</td>\n",
       "      <td>sberauto.com/cars/all/mercedes-benz/e-klasse/d...</td>\n",
       "      <td>view_new_card</td>\n",
       "    </tr>\n",
       "  </tbody>\n",
       "</table>\n",
       "<p>5864306 rows × 19 columns</p>\n",
       "</div>"
      ],
      "text/plain": [
       "          Unnamed: 0_x                                 session_id  \\\n",
       "24                   5  9055447192389856083.1622453074.1622453074   \n",
       "25                   5  9055447192389856083.1622453074.1622453074   \n",
       "26                   5  9055447192389856083.1622453074.1622453074   \n",
       "27                   5  9055447192389856083.1622453074.1622453074   \n",
       "28                   5  9055447192389856083.1622453074.1622453074   \n",
       "...                ...                                        ...   \n",
       "15812975       1860039  9055422955903931195.1636979515.1636979515   \n",
       "15812976       1860039  9055422955903931195.1636979515.1636979515   \n",
       "15812977       1860039  9055422955903931195.1636979515.1636979515   \n",
       "15812978       1860039  9055422955903931195.1636979515.1636979515   \n",
       "15812979       1860039  9055422955903931195.1636979515.1636979515   \n",
       "\n",
       "                  client_id  visit_number            utm_source utm_medium  \\\n",
       "24        2108385598.162245             1  kjsLglQLzykiRbcDiGcD    organic   \n",
       "25        2108385598.162245             1  kjsLglQLzykiRbcDiGcD    organic   \n",
       "26        2108385598.162245             1  kjsLglQLzykiRbcDiGcD    organic   \n",
       "27        2108385598.162245             1  kjsLglQLzykiRbcDiGcD    organic   \n",
       "28        2108385598.162245             1  kjsLglQLzykiRbcDiGcD    organic   \n",
       "...                     ...           ...                   ...        ...   \n",
       "15812975  2108379955.163697             1  fDLlAcSmythWSCVMvqvL     (none)   \n",
       "15812976  2108379955.163697             1  fDLlAcSmythWSCVMvqvL     (none)   \n",
       "15812977  2108379955.163697             1  fDLlAcSmythWSCVMvqvL     (none)   \n",
       "15812978  2108379955.163697             1  fDLlAcSmythWSCVMvqvL     (none)   \n",
       "15812979  2108379955.163697             1  fDLlAcSmythWSCVMvqvL     (none)   \n",
       "\n",
       "                  utm_campaign           utm_keyword device_category  \\\n",
       "24        LTuZkdKfxRGVceoWkVyg               unknown          mobile   \n",
       "25        LTuZkdKfxRGVceoWkVyg               unknown          mobile   \n",
       "26        LTuZkdKfxRGVceoWkVyg               unknown          mobile   \n",
       "27        LTuZkdKfxRGVceoWkVyg               unknown          mobile   \n",
       "28        LTuZkdKfxRGVceoWkVyg               unknown          mobile   \n",
       "...                        ...                   ...             ...   \n",
       "15812975  LTuZkdKfxRGVceoWkVyg  puhZPIYqKXeFPaUviSjo          mobile   \n",
       "15812976  LTuZkdKfxRGVceoWkVyg  puhZPIYqKXeFPaUviSjo          mobile   \n",
       "15812977  LTuZkdKfxRGVceoWkVyg  puhZPIYqKXeFPaUviSjo          mobile   \n",
       "15812978  LTuZkdKfxRGVceoWkVyg  puhZPIYqKXeFPaUviSjo          mobile   \n",
       "15812979  LTuZkdKfxRGVceoWkVyg  puhZPIYqKXeFPaUviSjo          mobile   \n",
       "\n",
       "         device_os device_brand device_browser geo_country          geo_city  \\\n",
       "24         unknown        Apple         Safari      Russia  Saint Petersburg   \n",
       "25         unknown        Apple         Safari      Russia  Saint Petersburg   \n",
       "26         unknown        Apple         Safari      Russia  Saint Petersburg   \n",
       "27         unknown        Apple         Safari      Russia  Saint Petersburg   \n",
       "28         unknown        Apple         Safari      Russia  Saint Petersburg   \n",
       "...            ...          ...            ...         ...               ...   \n",
       "15812975       iOS        Apple         Safari      Russia            Moscow   \n",
       "15812976       iOS        Apple         Safari      Russia            Moscow   \n",
       "15812977       iOS        Apple         Safari      Russia            Moscow   \n",
       "15812978       iOS        Apple         Safari      Russia            Moscow   \n",
       "15812979       iOS        Apple         Safari      Russia            Moscow   \n",
       "\n",
       "          Unnamed: 0_y  hit_number           hit_referer  \\\n",
       "24           4638963.0         5.0  HbolMJUevblAbkHClEQa   \n",
       "25           4643037.0         6.0  HbolMJUevblAbkHClEQa   \n",
       "26           4669742.0        25.0  HbolMJUevblAbkHClEQa   \n",
       "27           4669745.0        27.0  HbolMJUevblAbkHClEQa   \n",
       "28           4669754.0        34.0  HbolMJUevblAbkHClEQa   \n",
       "...                ...         ...                   ...   \n",
       "15812975    14638264.0        55.0                 other   \n",
       "15812976    14764632.0        16.0                 other   \n",
       "15812977    15321375.0         3.0                 other   \n",
       "15812978    15325732.0        13.0                 other   \n",
       "15812979    15325733.0        17.0                 other   \n",
       "\n",
       "                                              hit_page_path  \\\n",
       "24                                   podpiska.sberauto.com/   \n",
       "25                                   podpiska.sberauto.com/   \n",
       "26        sberauto.com/cars/e1f862ea?rental_page=rental_car   \n",
       "27        sberauto.com/cars/e1f862ea?rental_page=rental_car   \n",
       "28        sberauto.com/cars/e1f862ea?rental_page=rental_car   \n",
       "...                                                     ...   \n",
       "15812975  sberauto.com/cars/all/mercedes-benz/glc/f8f330...   \n",
       "15812976  sberauto.com/cars/all/mercedes-benz/e-klasse/d...   \n",
       "15812977                             podpiska.sberauto.com/   \n",
       "15812978  sberauto.com/cars/all/mercedes-benz/e-klasse/d...   \n",
       "15812979  sberauto.com/cars/all/mercedes-benz/e-klasse/d...   \n",
       "\n",
       "                 event_action  \n",
       "24                sub_landing  \n",
       "25        sub_view_cars_click  \n",
       "26                  view_card  \n",
       "27                  view_card  \n",
       "28                  view_card  \n",
       "...                       ...  \n",
       "15812975        view_new_card  \n",
       "15812976            view_card  \n",
       "15812977          sub_landing  \n",
       "15812978        view_new_card  \n",
       "15812979        view_new_card  \n",
       "\n",
       "[5864306 rows x 19 columns]"
      ]
     },
     "execution_count": 13,
     "metadata": {},
     "output_type": "execute_result"
    }
   ],
   "source": [
    "df_organic"
   ]
  },
  {
   "cell_type": "code",
   "execution_count": 14,
   "id": "ce642969",
   "metadata": {},
   "outputs": [],
   "source": [
    "df_organic = df_organic.dropna(subset = 'event_action')"
   ]
  },
  {
   "cell_type": "code",
   "execution_count": 15,
   "id": "ad077f98",
   "metadata": {},
   "outputs": [
    {
     "data": {
      "text/plain": [
       "0"
      ]
     },
     "execution_count": 15,
     "metadata": {},
     "output_type": "execute_result"
    }
   ],
   "source": [
    "df_organic.event_action.isna().sum()"
   ]
  },
  {
   "cell_type": "code",
   "execution_count": 16,
   "id": "8d2032b8",
   "metadata": {},
   "outputs": [],
   "source": [
    "df_nonorganic = df_merge.drop(df_merge[df_merge.utm_medium.isin(org_list)].index)"
   ]
  },
  {
   "cell_type": "code",
   "execution_count": 17,
   "id": "fbe81382",
   "metadata": {},
   "outputs": [
    {
     "data": {
      "text/plain": [
       "0"
      ]
     },
     "execution_count": 17,
     "metadata": {},
     "output_type": "execute_result"
    }
   ],
   "source": [
    "df_nonorganic = df_nonorganic.dropna(subset = 'event_action')\n",
    "df_nonorganic.event_action.isna().sum()"
   ]
  },
  {
   "cell_type": "code",
   "execution_count": 18,
   "id": "61314872",
   "metadata": {},
   "outputs": [
    {
     "data": {
      "text/plain": [
       "(9867652, 19)"
      ]
     },
     "execution_count": 18,
     "metadata": {},
     "output_type": "execute_result"
    }
   ],
   "source": [
    "df_nonorganic.shape"
   ]
  },
  {
   "cell_type": "code",
   "execution_count": 19,
   "id": "05d407eb",
   "metadata": {},
   "outputs": [
    {
     "data": {
      "text/plain": [
       "(5817567, 19)"
      ]
     },
     "execution_count": 19,
     "metadata": {},
     "output_type": "execute_result"
    }
   ],
   "source": [
    "df_organic.shape"
   ]
  },
  {
   "cell_type": "code",
   "execution_count": 20,
   "id": "8b9d87aa",
   "metadata": {},
   "outputs": [],
   "source": [
    "df_n1 = df_nonorganic.copy()"
   ]
  },
  {
   "cell_type": "code",
   "execution_count": 21,
   "id": "92d916c2",
   "metadata": {},
   "outputs": [],
   "source": [
    "df_n1 = df_n1.drop_duplicates(subset = 'session_id')"
   ]
  },
  {
   "cell_type": "code",
   "execution_count": 22,
   "id": "d402d5d0",
   "metadata": {},
   "outputs": [
    {
     "data": {
      "text/plain": [
       "(1263346, 19)"
      ]
     },
     "execution_count": 22,
     "metadata": {},
     "output_type": "execute_result"
    }
   ],
   "source": [
    "df_n1.shape"
   ]
  },
  {
   "cell_type": "code",
   "execution_count": 23,
   "id": "ed97a046",
   "metadata": {},
   "outputs": [
    {
     "data": {
      "text/plain": [
       "3605"
      ]
     },
     "execution_count": 23,
     "metadata": {},
     "output_type": "execute_result"
    }
   ],
   "source": [
    "#кол-во целевых действий по платному траффику\n",
    "len(df_n1[df_n1.event_action.isin(aim)])"
   ]
  },
  {
   "cell_type": "code",
   "execution_count": 24,
   "id": "eaba4b3e",
   "metadata": {},
   "outputs": [
    {
     "data": {
      "text/plain": [
       "1263346"
      ]
     },
     "execution_count": 24,
     "metadata": {},
     "output_type": "execute_result"
    }
   ],
   "source": [
    "#суммарное кол-во действий по платному траффику\n",
    "len(df_n1)"
   ]
  },
  {
   "cell_type": "code",
   "execution_count": 25,
   "id": "521cb999",
   "metadata": {},
   "outputs": [
    {
     "name": "stdout",
     "output_type": "stream",
     "text": [
      "0.285353339465198\n"
     ]
    }
   ],
   "source": [
    "#CR платного траффика\n",
    "crn = (len(df_n1[df_n1.event_action.isin(aim)])/len(df_n1))*100\n",
    "print(crn)"
   ]
  },
  {
   "cell_type": "code",
   "execution_count": 26,
   "id": "d09c37f9",
   "metadata": {},
   "outputs": [],
   "source": [
    "df_o1 = df_organic.copy()"
   ]
  },
  {
   "cell_type": "code",
   "execution_count": 27,
   "id": "67c482b9",
   "metadata": {},
   "outputs": [],
   "source": [
    "df_o1 = df_o1.drop_duplicates(subset = 'session_id')"
   ]
  },
  {
   "cell_type": "code",
   "execution_count": 28,
   "id": "38319c99",
   "metadata": {},
   "outputs": [
    {
     "data": {
      "text/plain": [
       "1624"
      ]
     },
     "execution_count": 28,
     "metadata": {},
     "output_type": "execute_result"
    }
   ],
   "source": [
    "#кол-во целевых действий по органическому траффику\n",
    "len(df_o1[df_o1.event_action.isin(aim)])"
   ]
  },
  {
   "cell_type": "code",
   "execution_count": 29,
   "id": "397f4691",
   "metadata": {},
   "outputs": [
    {
     "data": {
      "text/plain": [
       "468920"
      ]
     },
     "execution_count": 29,
     "metadata": {},
     "output_type": "execute_result"
    }
   ],
   "source": [
    "#суммарное кол-во действий по органическому траффику\n",
    "len(df_o1)"
   ]
  },
  {
   "cell_type": "code",
   "execution_count": 30,
   "id": "130caf69",
   "metadata": {},
   "outputs": [
    {
     "name": "stdout",
     "output_type": "stream",
     "text": [
      "0.34632773180926385\n"
     ]
    }
   ],
   "source": [
    "#СR органического траффика\n",
    "cro = (len(df_o1[df_o1.event_action.isin(aim)])/len(df_o1))*100\n",
    "print(cro)"
   ]
  },
  {
   "cell_type": "code",
   "execution_count": 31,
   "id": "f1721c78",
   "metadata": {},
   "outputs": [],
   "source": [
    "#Можем видеть, что Cr органического траффика выше платного"
   ]
  },
  {
   "cell_type": "markdown",
   "id": "cc21934e",
   "metadata": {},
   "source": [
    "# Проверка гипотезы о конверсиях с моб. и десктопных устройств"
   ]
  },
  {
   "cell_type": "code",
   "execution_count": 32,
   "id": "94d05212",
   "metadata": {},
   "outputs": [
    {
     "data": {
      "text/plain": [
       "mobile     11701733\n",
       "desktop     3965226\n",
       "tablet       146036\n",
       "Name: device_category, dtype: int64"
      ]
     },
     "execution_count": 32,
     "metadata": {},
     "output_type": "execute_result"
    }
   ],
   "source": [
    "df_merge.device_category.value_counts()"
   ]
  },
  {
   "cell_type": "code",
   "execution_count": 33,
   "id": "111d1ef9",
   "metadata": {},
   "outputs": [],
   "source": [
    "df_desktop = df_merge[df_merge.device_category == 'desktop']"
   ]
  },
  {
   "cell_type": "code",
   "execution_count": 34,
   "id": "f4f1e8e3",
   "metadata": {},
   "outputs": [
    {
     "data": {
      "text/plain": [
       "(3965226, 19)"
      ]
     },
     "execution_count": 34,
     "metadata": {},
     "output_type": "execute_result"
    }
   ],
   "source": [
    "df_desktop.shape"
   ]
  },
  {
   "cell_type": "code",
   "execution_count": 35,
   "id": "9c6f5823",
   "metadata": {},
   "outputs": [],
   "source": [
    "df_mobile = df_merge[df_merge.device_category == 'mobile']"
   ]
  },
  {
   "cell_type": "code",
   "execution_count": 36,
   "id": "b2c84661",
   "metadata": {},
   "outputs": [
    {
     "data": {
      "text/plain": [
       "(11701733, 19)"
      ]
     },
     "execution_count": 36,
     "metadata": {},
     "output_type": "execute_result"
    }
   ],
   "source": [
    "df_mobile.shape"
   ]
  },
  {
   "cell_type": "code",
   "execution_count": 37,
   "id": "602ddc5b",
   "metadata": {},
   "outputs": [
    {
     "data": {
      "text/plain": [
       "25243"
      ]
     },
     "execution_count": 37,
     "metadata": {},
     "output_type": "execute_result"
    }
   ],
   "source": [
    "df_desktop.event_action.isin(aim).sum()"
   ]
  },
  {
   "cell_type": "code",
   "execution_count": 38,
   "id": "b98a2db0",
   "metadata": {},
   "outputs": [
    {
     "data": {
      "text/plain": [
       "3965226"
      ]
     },
     "execution_count": 38,
     "metadata": {},
     "output_type": "execute_result"
    }
   ],
   "source": [
    "len(df_desktop)"
   ]
  },
  {
   "cell_type": "code",
   "execution_count": 39,
   "id": "a34374c5",
   "metadata": {},
   "outputs": [
    {
     "name": "stdout",
     "output_type": "stream",
     "text": [
      "0.6366093635016011\n"
     ]
    }
   ],
   "source": [
    "crdesktop = df_desktop.event_action.isin(aim).sum()/len(df_desktop)*100\n",
    "print(crdesktop)"
   ]
  },
  {
   "cell_type": "code",
   "execution_count": 40,
   "id": "85da5336",
   "metadata": {},
   "outputs": [
    {
     "data": {
      "text/plain": [
       "76834"
      ]
     },
     "execution_count": 40,
     "metadata": {},
     "output_type": "execute_result"
    }
   ],
   "source": [
    "df_mobile.event_action.isin(aim).sum()"
   ]
  },
  {
   "cell_type": "code",
   "execution_count": 41,
   "id": "5e5ef3aa",
   "metadata": {},
   "outputs": [
    {
     "data": {
      "text/plain": [
       "11701733"
      ]
     },
     "execution_count": 41,
     "metadata": {},
     "output_type": "execute_result"
    }
   ],
   "source": [
    "len(df_mobile)"
   ]
  },
  {
   "cell_type": "code",
   "execution_count": 42,
   "id": "2ec3725f",
   "metadata": {},
   "outputs": [
    {
     "name": "stdout",
     "output_type": "stream",
     "text": [
      "0.6566035988002803\n"
     ]
    }
   ],
   "source": [
    "crmobile = df_mobile.event_action.isin(aim).sum()/len(df_mobile)*100\n",
    "print(crmobile)"
   ]
  },
  {
   "cell_type": "code",
   "execution_count": 43,
   "id": "60bc1de4",
   "metadata": {},
   "outputs": [],
   "source": [
    "#конверсия по мобильным устройствам не отличается от конверсии десктопных"
   ]
  },
  {
   "cell_type": "markdown",
   "id": "502362f1",
   "metadata": {},
   "source": [
    "# Проверка гипотезы о конверсиях Москвы, МО и СПБ с конверсией остальных городов"
   ]
  },
  {
   "cell_type": "code",
   "execution_count": 44,
   "id": "584e1978",
   "metadata": {},
   "outputs": [
    {
     "data": {
      "text/html": [
       "<div>\n",
       "<style scoped>\n",
       "    .dataframe tbody tr th:only-of-type {\n",
       "        vertical-align: middle;\n",
       "    }\n",
       "\n",
       "    .dataframe tbody tr th {\n",
       "        vertical-align: top;\n",
       "    }\n",
       "\n",
       "    .dataframe thead th {\n",
       "        text-align: right;\n",
       "    }\n",
       "</style>\n",
       "<table border=\"1\" class=\"dataframe\">\n",
       "  <thead>\n",
       "    <tr style=\"text-align: right;\">\n",
       "      <th></th>\n",
       "      <th>Unnamed: 0_x</th>\n",
       "      <th>session_id</th>\n",
       "      <th>client_id</th>\n",
       "      <th>visit_number</th>\n",
       "      <th>utm_source</th>\n",
       "      <th>utm_medium</th>\n",
       "      <th>utm_campaign</th>\n",
       "      <th>utm_keyword</th>\n",
       "      <th>device_category</th>\n",
       "      <th>device_os</th>\n",
       "      <th>device_brand</th>\n",
       "      <th>device_browser</th>\n",
       "      <th>geo_country</th>\n",
       "      <th>geo_city</th>\n",
       "      <th>Unnamed: 0_y</th>\n",
       "      <th>hit_number</th>\n",
       "      <th>hit_referer</th>\n",
       "      <th>hit_page_path</th>\n",
       "      <th>event_action</th>\n",
       "    </tr>\n",
       "  </thead>\n",
       "  <tbody>\n",
       "    <tr>\n",
       "      <th>0</th>\n",
       "      <td>0</td>\n",
       "      <td>9055434745589932991.1637753792.1637753792</td>\n",
       "      <td>2108382700.163776</td>\n",
       "      <td>1</td>\n",
       "      <td>ZpYIoDJMcFzVoPFsHGJL</td>\n",
       "      <td>banner</td>\n",
       "      <td>LEoPHuyFvzoNfnzGgfcd</td>\n",
       "      <td>puhZPIYqKXeFPaUviSjo</td>\n",
       "      <td>mobile</td>\n",
       "      <td>Android</td>\n",
       "      <td>Huawei</td>\n",
       "      <td>Chrome</td>\n",
       "      <td>Russia</td>\n",
       "      <td>Zlatoust</td>\n",
       "      <td>1614540.0</td>\n",
       "      <td>3.0</td>\n",
       "      <td>other</td>\n",
       "      <td>podpiska.sberauto.com/</td>\n",
       "      <td>sub_landing</td>\n",
       "    </tr>\n",
       "    <tr>\n",
       "      <th>1</th>\n",
       "      <td>0</td>\n",
       "      <td>9055434745589932991.1637753792.1637753792</td>\n",
       "      <td>2108382700.163776</td>\n",
       "      <td>1</td>\n",
       "      <td>ZpYIoDJMcFzVoPFsHGJL</td>\n",
       "      <td>banner</td>\n",
       "      <td>LEoPHuyFvzoNfnzGgfcd</td>\n",
       "      <td>puhZPIYqKXeFPaUviSjo</td>\n",
       "      <td>mobile</td>\n",
       "      <td>Android</td>\n",
       "      <td>Huawei</td>\n",
       "      <td>Chrome</td>\n",
       "      <td>Russia</td>\n",
       "      <td>Zlatoust</td>\n",
       "      <td>1615093.0</td>\n",
       "      <td>4.0</td>\n",
       "      <td>other</td>\n",
       "      <td>podpiska.sberauto.com/</td>\n",
       "      <td>sub_view_cars_click</td>\n",
       "    </tr>\n",
       "    <tr>\n",
       "      <th>2</th>\n",
       "      <td>1</td>\n",
       "      <td>905544597018549464.1636867290.1636867290</td>\n",
       "      <td>210838531.163687</td>\n",
       "      <td>1</td>\n",
       "      <td>MvfHsxITijuriZxsqZqt</td>\n",
       "      <td>cpm</td>\n",
       "      <td>FTjNLDyTrXaWYgZymFkV</td>\n",
       "      <td>IGUCNvHlhfHpROGclCit</td>\n",
       "      <td>mobile</td>\n",
       "      <td>Android</td>\n",
       "      <td>Samsung</td>\n",
       "      <td>Samsung Internet</td>\n",
       "      <td>Russia</td>\n",
       "      <td>Moscow</td>\n",
       "      <td>1211514.0</td>\n",
       "      <td>3.0</td>\n",
       "      <td>other</td>\n",
       "      <td>podpiska.sberauto.com/</td>\n",
       "      <td>sub_landing</td>\n",
       "    </tr>\n",
       "    <tr>\n",
       "      <th>3</th>\n",
       "      <td>2</td>\n",
       "      <td>9055446045651783499.1640648526.1640648526</td>\n",
       "      <td>2108385331.164065</td>\n",
       "      <td>1</td>\n",
       "      <td>ZpYIoDJMcFzVoPFsHGJL</td>\n",
       "      <td>banner</td>\n",
       "      <td>LEoPHuyFvzoNfnzGgfcd</td>\n",
       "      <td>puhZPIYqKXeFPaUviSjo</td>\n",
       "      <td>mobile</td>\n",
       "      <td>Android</td>\n",
       "      <td>Huawei</td>\n",
       "      <td>Chrome</td>\n",
       "      <td>Russia</td>\n",
       "      <td>Krasnoyarsk</td>\n",
       "      <td>1496106.0</td>\n",
       "      <td>10.0</td>\n",
       "      <td>other</td>\n",
       "      <td>sberauto.com/cars?utm_source_initial=sbol&amp;utm_...</td>\n",
       "      <td>search_form_region</td>\n",
       "    </tr>\n",
       "    <tr>\n",
       "      <th>4</th>\n",
       "      <td>2</td>\n",
       "      <td>9055446045651783499.1640648526.1640648526</td>\n",
       "      <td>2108385331.164065</td>\n",
       "      <td>1</td>\n",
       "      <td>ZpYIoDJMcFzVoPFsHGJL</td>\n",
       "      <td>banner</td>\n",
       "      <td>LEoPHuyFvzoNfnzGgfcd</td>\n",
       "      <td>puhZPIYqKXeFPaUviSjo</td>\n",
       "      <td>mobile</td>\n",
       "      <td>Android</td>\n",
       "      <td>Huawei</td>\n",
       "      <td>Chrome</td>\n",
       "      <td>Russia</td>\n",
       "      <td>Krasnoyarsk</td>\n",
       "      <td>2057760.0</td>\n",
       "      <td>13.0</td>\n",
       "      <td>other</td>\n",
       "      <td>sberauto.com/cars?utm_source_initial=sbol&amp;utm_...</td>\n",
       "      <td>search_form_region</td>\n",
       "    </tr>\n",
       "  </tbody>\n",
       "</table>\n",
       "</div>"
      ],
      "text/plain": [
       "   Unnamed: 0_x                                 session_id          client_id  \\\n",
       "0             0  9055434745589932991.1637753792.1637753792  2108382700.163776   \n",
       "1             0  9055434745589932991.1637753792.1637753792  2108382700.163776   \n",
       "2             1   905544597018549464.1636867290.1636867290   210838531.163687   \n",
       "3             2  9055446045651783499.1640648526.1640648526  2108385331.164065   \n",
       "4             2  9055446045651783499.1640648526.1640648526  2108385331.164065   \n",
       "\n",
       "   visit_number            utm_source utm_medium          utm_campaign  \\\n",
       "0             1  ZpYIoDJMcFzVoPFsHGJL     banner  LEoPHuyFvzoNfnzGgfcd   \n",
       "1             1  ZpYIoDJMcFzVoPFsHGJL     banner  LEoPHuyFvzoNfnzGgfcd   \n",
       "2             1  MvfHsxITijuriZxsqZqt        cpm  FTjNLDyTrXaWYgZymFkV   \n",
       "3             1  ZpYIoDJMcFzVoPFsHGJL     banner  LEoPHuyFvzoNfnzGgfcd   \n",
       "4             1  ZpYIoDJMcFzVoPFsHGJL     banner  LEoPHuyFvzoNfnzGgfcd   \n",
       "\n",
       "            utm_keyword device_category device_os device_brand  \\\n",
       "0  puhZPIYqKXeFPaUviSjo          mobile   Android       Huawei   \n",
       "1  puhZPIYqKXeFPaUviSjo          mobile   Android       Huawei   \n",
       "2  IGUCNvHlhfHpROGclCit          mobile   Android      Samsung   \n",
       "3  puhZPIYqKXeFPaUviSjo          mobile   Android       Huawei   \n",
       "4  puhZPIYqKXeFPaUviSjo          mobile   Android       Huawei   \n",
       "\n",
       "     device_browser geo_country     geo_city  Unnamed: 0_y  hit_number  \\\n",
       "0            Chrome      Russia     Zlatoust     1614540.0         3.0   \n",
       "1            Chrome      Russia     Zlatoust     1615093.0         4.0   \n",
       "2  Samsung Internet      Russia       Moscow     1211514.0         3.0   \n",
       "3            Chrome      Russia  Krasnoyarsk     1496106.0        10.0   \n",
       "4            Chrome      Russia  Krasnoyarsk     2057760.0        13.0   \n",
       "\n",
       "  hit_referer                                      hit_page_path  \\\n",
       "0       other                             podpiska.sberauto.com/   \n",
       "1       other                             podpiska.sberauto.com/   \n",
       "2       other                             podpiska.sberauto.com/   \n",
       "3       other  sberauto.com/cars?utm_source_initial=sbol&utm_...   \n",
       "4       other  sberauto.com/cars?utm_source_initial=sbol&utm_...   \n",
       "\n",
       "          event_action  \n",
       "0          sub_landing  \n",
       "1  sub_view_cars_click  \n",
       "2          sub_landing  \n",
       "3   search_form_region  \n",
       "4   search_form_region  "
      ]
     },
     "execution_count": 44,
     "metadata": {},
     "output_type": "execute_result"
    }
   ],
   "source": [
    "df_merge.head(5)"
   ]
  },
  {
   "cell_type": "code",
   "execution_count": 45,
   "id": "0554ae0b",
   "metadata": {},
   "outputs": [
    {
     "data": {
      "text/plain": [
       "Moscow              6849519\n",
       "Saint Petersburg    2383906\n",
       "(not set)            601154\n",
       "Yekaterinburg        330534\n",
       "Krasnodar            295484\n",
       "Kazan                277798\n",
       "Samara               228334\n",
       "Nizhny Novgorod      201471\n",
       "Ufa                  198589\n",
       "Novosibirsk          192369\n",
       "Chelyabinsk          139304\n",
       "Krasnoyarsk          136825\n",
       "Voronezh             136051\n",
       "Tula                 129120\n",
       "Rostov-on-Don        128585\n",
       "Irkutsk              115109\n",
       "Grozny               113275\n",
       "Balashikha           108401\n",
       "Vladivostok           99684\n",
       "Yaroslavl             85547\n",
       "Sochi                 84136\n",
       "Khimki                71919\n",
       "Tyumen                64402\n",
       "Saratov               62476\n",
       "Perm                  60920\n",
       "Odintsovo             53747\n",
       "Vidnoye               52000\n",
       "Mytishchi             49241\n",
       "Izhevsk               47982\n",
       "Zheleznodorozhny      44591\n",
       "Domodedovo            41780\n",
       "Lipetsk               40854\n",
       "Stavropol             40581\n",
       "Korolyov              37601\n",
       "Omsk                  36863\n",
       "Pyatigorsk            35568\n",
       "Tver                  35329\n",
       "Kaliningrad           33552\n",
       "Volgograd             33262\n",
       "Khabarovsk            32630\n",
       "Kaluga                32412\n",
       "Podolsk               32368\n",
       "Ryazan                32226\n",
       "Krasnogorsk           31611\n",
       "Surgut                28332\n",
       "Dolgoprudny           27590\n",
       "Makhachkala           26285\n",
       "Ulyanovsk             25293\n",
       "Vladimir              24504\n",
       "Barnaul               24462\n",
       "Reutov                23759\n",
       "Belgorod              22765\n",
       "Orenburg              22685\n",
       "Cheboksary            22323\n",
       "Kirov                 21541\n",
       "Ivanovo               21537\n",
       "Pushkino              21462\n",
       "Chita                 21293\n",
       "Kemerovo              21290\n",
       "Tomsk                 21229\n",
       "Name: geo_city, dtype: int64"
      ]
     },
     "execution_count": 45,
     "metadata": {},
     "output_type": "execute_result"
    }
   ],
   "source": [
    "df_merge.geo_city.value_counts().head(60)"
   ]
  },
  {
   "cell_type": "code",
   "execution_count": 46,
   "id": "7d212cda",
   "metadata": {},
   "outputs": [],
   "source": [
    "mo_spb_list = ['Moscow', 'Saint Petersburg','Balashikha','Khimki','Odintsovo','Vidnoye','Mytishchi','Zheleznodorozhny','Domodedovo','Korolyov','Podolsk','Dolgoprudny','Reutov','Pushkino']"
   ]
  },
  {
   "cell_type": "code",
   "execution_count": 100,
   "id": "1395f25c",
   "metadata": {},
   "outputs": [],
   "source": [
    "df_plot_cities = pd.DataFrame(columns = ['city','cr'])"
   ]
  },
  {
   "cell_type": "code",
   "execution_count": 101,
   "id": "d7d54f84",
   "metadata": {},
   "outputs": [
    {
     "name": "stdout",
     "output_type": "stream",
     "text": [
      "Конверсия города Moscow - 0.7482131227024846\n",
      "Конверсия города Saint Petersburg - 0.5761972158298188\n",
      "Конверсия города Balashikha - 0.6051604689993635\n",
      "Конверсия города Khimki - 0.5992853070815779\n",
      "Конверсия города Odintsovo - 0.7293430330995219\n",
      "Конверсия города Vidnoye - 0.49615384615384617\n",
      "Конверсия города Mytishchi - 0.4995836802664446\n",
      "Конверсия города Zheleznodorozhny - 0.4148819268462246\n",
      "Конверсия города Domodedovo - 1.9506941120153183\n",
      "Конверсия города Korolyov - 1.0638014946410999\n",
      "Конверсия города Podolsk - 0.5993573900148295\n",
      "Конверсия города Dolgoprudny - 0.6415367886915548\n",
      "Конверсия города Reutov - 0.5219074876888757\n",
      "Конверсия города Pushkino - 0.5544683626875407\n"
     ]
    }
   ],
   "source": [
    "for city in mo_spb_list:\n",
    "    df_city_mo_spb = df_merge[df_merge.geo_city == city]\n",
    "    cr_mo_spb = df_city_mo_spb.event_action.isin(aim).sum()/len(df_city_mo_spb)*100\n",
    "    print(f'Конверсия города {city} - {cr_mo_spb}')\n",
    "    df_plot_cities.loc[len(df_plot_cities.index)] = [city, cr_mo_spb] \n",
    "    \n",
    "    "
   ]
  },
  {
   "cell_type": "code",
   "execution_count": 109,
   "id": "b7ecc472",
   "metadata": {},
   "outputs": [
    {
     "data": {
      "image/png": "[encoded data removed]",
      "text/plain": [
       "<Figure size 432x288 with 1 Axes>"
      ]
     },
     "metadata": {
      "needs_background": "light"
     },
     "output_type": "display_data"
    }
   ],
   "source": [
    "df_plot_cities.plot(kind = 'bar', x = 'city', y = 'cr')\n",
    "plt.show()"
   ]
  },
  {
   "cell_type": "code",
   "execution_count": 48,
   "id": "a5f4668c",
   "metadata": {},
   "outputs": [],
   "source": [
    "sum_cities_set = set(df_merge.geo_city.values.tolist())\n",
    "cities_except_mo_spb = list(sum_cities_set.difference(mo_spb_list))"
   ]
  },
  {
   "cell_type": "code",
   "execution_count": 49,
   "id": "ec79acee",
   "metadata": {},
   "outputs": [],
   "source": [
    "rnd_city = random.sample(cities_except_mo_spb, 30)"
   ]
  },
  {
   "cell_type": "code",
   "execution_count": 50,
   "id": "444ae28d",
   "metadata": {},
   "outputs": [
    {
     "name": "stdout",
     "output_type": "stream",
     "text": [
      "Конверсия города Nagareyama - 0.0\n",
      "Конверсия города Bad Ragaz - 0.0\n",
      "Конверсия города Frisco - 0.0\n",
      "Конверсия города Sofia - 0.5192107995846313\n",
      "Конверсия города Pavlovo - 2.111111111111111\n",
      "Конверсия города Ekibastuz - 0.0\n",
      "Конверсия города Bologna - 1.6666666666666667\n",
      "Конверсия города Sarapul - 0.0\n",
      "Конверсия города Barnsley - 0.0\n",
      "Конверсия города Berdyans'k - 0.0\n",
      "Конверсия города Alfredo V. Bonfil - 0.0\n",
      "Конверсия города Norderstedt - 0.0\n",
      "Конверсия города Nagasaki - 0.0\n",
      "Конверсия города Yeysk - 0.1049317943336831\n",
      "Конверсия города Seminole - 3.048780487804878\n",
      "Конверсия города Kingisepp - 0.5353319057815845\n",
      "Конверсия города Schiedam - 0.0\n",
      "Конверсия города Donauworth - 0.0\n",
      "Конверсия города Delft - 0.0\n",
      "Конверсия города 61925 - 0.0\n",
      "Конверсия города Kostomuksha - 0.0\n",
      "Конверсия города Overland Park - 0.0\n",
      "Конверсия города Sunnyvale - 0.0\n",
      "Конверсия города Russkiy - 0.0\n",
      "Конверсия города Guingamp - 5.555555555555555\n",
      "Конверсия города Kamianske - 0.0\n",
      "Конверсия города Cirencester - 0.0\n",
      "Конверсия города Streetsboro - 0.0\n",
      "Конверсия города Bovenkarspel - 0.0\n",
      "Конверсия города Petersberg - 0.0\n"
     ]
    }
   ],
   "source": [
    "for city in rnd_city:\n",
    "    df_city = df_merge[df_merge.geo_city == city]\n",
    "    cr_city_except_mo_spb = df_city.event_action.isin(aim).sum()/len(df_city)*100\n",
    "    print(f'Конверсия города {city} - {cr_city_except_mo_spb}')"
   ]
  },
  {
   "cell_type": "code",
   "execution_count": 51,
   "id": "2cbf4554",
   "metadata": {},
   "outputs": [],
   "source": [
    "df_msc = df_merge[df_merge.geo_city.isin(mo_spb_list)]"
   ]
  },
  {
   "cell_type": "code",
   "execution_count": 52,
   "id": "91b893df",
   "metadata": {
    "scrolled": true
   },
   "outputs": [
    {
     "data": {
      "text/html": [
       "<div>\n",
       "<style scoped>\n",
       "    .dataframe tbody tr th:only-of-type {\n",
       "        vertical-align: middle;\n",
       "    }\n",
       "\n",
       "    .dataframe tbody tr th {\n",
       "        vertical-align: top;\n",
       "    }\n",
       "\n",
       "    .dataframe thead th {\n",
       "        text-align: right;\n",
       "    }\n",
       "</style>\n",
       "<table border=\"1\" class=\"dataframe\">\n",
       "  <thead>\n",
       "    <tr style=\"text-align: right;\">\n",
       "      <th></th>\n",
       "      <th>Unnamed: 0_x</th>\n",
       "      <th>session_id</th>\n",
       "      <th>client_id</th>\n",
       "      <th>visit_number</th>\n",
       "      <th>utm_source</th>\n",
       "      <th>utm_medium</th>\n",
       "      <th>utm_campaign</th>\n",
       "      <th>utm_keyword</th>\n",
       "      <th>device_category</th>\n",
       "      <th>device_os</th>\n",
       "      <th>device_brand</th>\n",
       "      <th>device_browser</th>\n",
       "      <th>geo_country</th>\n",
       "      <th>geo_city</th>\n",
       "      <th>Unnamed: 0_y</th>\n",
       "      <th>hit_number</th>\n",
       "      <th>hit_referer</th>\n",
       "      <th>hit_page_path</th>\n",
       "      <th>event_action</th>\n",
       "    </tr>\n",
       "  </thead>\n",
       "  <tbody>\n",
       "    <tr>\n",
       "      <th>2</th>\n",
       "      <td>1</td>\n",
       "      <td>905544597018549464.1636867290.1636867290</td>\n",
       "      <td>210838531.163687</td>\n",
       "      <td>1</td>\n",
       "      <td>MvfHsxITijuriZxsqZqt</td>\n",
       "      <td>cpm</td>\n",
       "      <td>FTjNLDyTrXaWYgZymFkV</td>\n",
       "      <td>IGUCNvHlhfHpROGclCit</td>\n",
       "      <td>mobile</td>\n",
       "      <td>Android</td>\n",
       "      <td>Samsung</td>\n",
       "      <td>Samsung Internet</td>\n",
       "      <td>Russia</td>\n",
       "      <td>Moscow</td>\n",
       "      <td>1211514.0</td>\n",
       "      <td>3.0</td>\n",
       "      <td>other</td>\n",
       "      <td>podpiska.sberauto.com/</td>\n",
       "      <td>sub_landing</td>\n",
       "    </tr>\n",
       "    <tr>\n",
       "      <th>19</th>\n",
       "      <td>3</td>\n",
       "      <td>9055447046360770272.1622255328.1622255328</td>\n",
       "      <td>2108385564.162225</td>\n",
       "      <td>1</td>\n",
       "      <td>kjsLglQLzykiRbcDiGcD</td>\n",
       "      <td>cpc</td>\n",
       "      <td>unknown</td>\n",
       "      <td>unknown</td>\n",
       "      <td>mobile</td>\n",
       "      <td>unknown</td>\n",
       "      <td>Xiaomi</td>\n",
       "      <td>Chrome</td>\n",
       "      <td>Russia</td>\n",
       "      <td>Moscow</td>\n",
       "      <td>5265125.0</td>\n",
       "      <td>2.0</td>\n",
       "      <td>HbolMJUevblAbkHClEQa</td>\n",
       "      <td>podpiska.sberauto.com/</td>\n",
       "      <td>sub_landing</td>\n",
       "    </tr>\n",
       "    <tr>\n",
       "      <th>20</th>\n",
       "      <td>3</td>\n",
       "      <td>9055447046360770272.1622255328.1622255328</td>\n",
       "      <td>2108385564.162225</td>\n",
       "      <td>1</td>\n",
       "      <td>kjsLglQLzykiRbcDiGcD</td>\n",
       "      <td>cpc</td>\n",
       "      <td>unknown</td>\n",
       "      <td>unknown</td>\n",
       "      <td>mobile</td>\n",
       "      <td>unknown</td>\n",
       "      <td>Xiaomi</td>\n",
       "      <td>Chrome</td>\n",
       "      <td>Russia</td>\n",
       "      <td>Moscow</td>\n",
       "      <td>5271655.0</td>\n",
       "      <td>6.0</td>\n",
       "      <td>HbolMJUevblAbkHClEQa</td>\n",
       "      <td>podpiska.sberauto.com/</td>\n",
       "      <td>sub_landing</td>\n",
       "    </tr>\n",
       "    <tr>\n",
       "      <th>21</th>\n",
       "      <td>3</td>\n",
       "      <td>9055447046360770272.1622255328.1622255328</td>\n",
       "      <td>2108385564.162225</td>\n",
       "      <td>1</td>\n",
       "      <td>kjsLglQLzykiRbcDiGcD</td>\n",
       "      <td>cpc</td>\n",
       "      <td>unknown</td>\n",
       "      <td>unknown</td>\n",
       "      <td>mobile</td>\n",
       "      <td>unknown</td>\n",
       "      <td>Xiaomi</td>\n",
       "      <td>Chrome</td>\n",
       "      <td>Russia</td>\n",
       "      <td>Moscow</td>\n",
       "      <td>5275439.0</td>\n",
       "      <td>7.0</td>\n",
       "      <td>HbolMJUevblAbkHClEQa</td>\n",
       "      <td>podpiska.sberauto.com/</td>\n",
       "      <td>sub_view_cars_click</td>\n",
       "    </tr>\n",
       "    <tr>\n",
       "      <th>22</th>\n",
       "      <td>4</td>\n",
       "      <td>9055447046360770272.1622255345.1622255345</td>\n",
       "      <td>2108385564.162225</td>\n",
       "      <td>2</td>\n",
       "      <td>kjsLglQLzykiRbcDiGcD</td>\n",
       "      <td>cpc</td>\n",
       "      <td>unknown</td>\n",
       "      <td>unknown</td>\n",
       "      <td>mobile</td>\n",
       "      <td>unknown</td>\n",
       "      <td>Xiaomi</td>\n",
       "      <td>Chrome</td>\n",
       "      <td>Russia</td>\n",
       "      <td>Moscow</td>\n",
       "      <td>5306913.0</td>\n",
       "      <td>3.0</td>\n",
       "      <td>HbolMJUevblAbkHClEQa</td>\n",
       "      <td>sberauto.com/cars?city=1&amp;rental_page=rental_on...</td>\n",
       "      <td>quiz_show</td>\n",
       "    </tr>\n",
       "    <tr>\n",
       "      <th>23</th>\n",
       "      <td>4</td>\n",
       "      <td>9055447046360770272.1622255345.1622255345</td>\n",
       "      <td>2108385564.162225</td>\n",
       "      <td>2</td>\n",
       "      <td>kjsLglQLzykiRbcDiGcD</td>\n",
       "      <td>cpc</td>\n",
       "      <td>unknown</td>\n",
       "      <td>unknown</td>\n",
       "      <td>mobile</td>\n",
       "      <td>unknown</td>\n",
       "      <td>Xiaomi</td>\n",
       "      <td>Chrome</td>\n",
       "      <td>Russia</td>\n",
       "      <td>Moscow</td>\n",
       "      <td>5313952.0</td>\n",
       "      <td>2.0</td>\n",
       "      <td>HbolMJUevblAbkHClEQa</td>\n",
       "      <td>sberauto.com/cars?city=1&amp;rental_page=rental_on...</td>\n",
       "      <td>search_form_search_btn</td>\n",
       "    </tr>\n",
       "    <tr>\n",
       "      <th>24</th>\n",
       "      <td>5</td>\n",
       "      <td>9055447192389856083.1622453074.1622453074</td>\n",
       "      <td>2108385598.162245</td>\n",
       "      <td>1</td>\n",
       "      <td>kjsLglQLzykiRbcDiGcD</td>\n",
       "      <td>organic</td>\n",
       "      <td>LTuZkdKfxRGVceoWkVyg</td>\n",
       "      <td>unknown</td>\n",
       "      <td>mobile</td>\n",
       "      <td>unknown</td>\n",
       "      <td>Apple</td>\n",
       "      <td>Safari</td>\n",
       "      <td>Russia</td>\n",
       "      <td>Saint Petersburg</td>\n",
       "      <td>4638963.0</td>\n",
       "      <td>5.0</td>\n",
       "      <td>HbolMJUevblAbkHClEQa</td>\n",
       "      <td>podpiska.sberauto.com/</td>\n",
       "      <td>sub_landing</td>\n",
       "    </tr>\n",
       "    <tr>\n",
       "      <th>25</th>\n",
       "      <td>5</td>\n",
       "      <td>9055447192389856083.1622453074.1622453074</td>\n",
       "      <td>2108385598.162245</td>\n",
       "      <td>1</td>\n",
       "      <td>kjsLglQLzykiRbcDiGcD</td>\n",
       "      <td>organic</td>\n",
       "      <td>LTuZkdKfxRGVceoWkVyg</td>\n",
       "      <td>unknown</td>\n",
       "      <td>mobile</td>\n",
       "      <td>unknown</td>\n",
       "      <td>Apple</td>\n",
       "      <td>Safari</td>\n",
       "      <td>Russia</td>\n",
       "      <td>Saint Petersburg</td>\n",
       "      <td>4643037.0</td>\n",
       "      <td>6.0</td>\n",
       "      <td>HbolMJUevblAbkHClEQa</td>\n",
       "      <td>podpiska.sberauto.com/</td>\n",
       "      <td>sub_view_cars_click</td>\n",
       "    </tr>\n",
       "    <tr>\n",
       "      <th>26</th>\n",
       "      <td>5</td>\n",
       "      <td>9055447192389856083.1622453074.1622453074</td>\n",
       "      <td>2108385598.162245</td>\n",
       "      <td>1</td>\n",
       "      <td>kjsLglQLzykiRbcDiGcD</td>\n",
       "      <td>organic</td>\n",
       "      <td>LTuZkdKfxRGVceoWkVyg</td>\n",
       "      <td>unknown</td>\n",
       "      <td>mobile</td>\n",
       "      <td>unknown</td>\n",
       "      <td>Apple</td>\n",
       "      <td>Safari</td>\n",
       "      <td>Russia</td>\n",
       "      <td>Saint Petersburg</td>\n",
       "      <td>4669742.0</td>\n",
       "      <td>25.0</td>\n",
       "      <td>HbolMJUevblAbkHClEQa</td>\n",
       "      <td>sberauto.com/cars/e1f862ea?rental_page=rental_car</td>\n",
       "      <td>view_card</td>\n",
       "    </tr>\n",
       "    <tr>\n",
       "      <th>27</th>\n",
       "      <td>5</td>\n",
       "      <td>9055447192389856083.1622453074.1622453074</td>\n",
       "      <td>2108385598.162245</td>\n",
       "      <td>1</td>\n",
       "      <td>kjsLglQLzykiRbcDiGcD</td>\n",
       "      <td>organic</td>\n",
       "      <td>LTuZkdKfxRGVceoWkVyg</td>\n",
       "      <td>unknown</td>\n",
       "      <td>mobile</td>\n",
       "      <td>unknown</td>\n",
       "      <td>Apple</td>\n",
       "      <td>Safari</td>\n",
       "      <td>Russia</td>\n",
       "      <td>Saint Petersburg</td>\n",
       "      <td>4669745.0</td>\n",
       "      <td>27.0</td>\n",
       "      <td>HbolMJUevblAbkHClEQa</td>\n",
       "      <td>sberauto.com/cars/e1f862ea?rental_page=rental_car</td>\n",
       "      <td>view_card</td>\n",
       "    </tr>\n",
       "  </tbody>\n",
       "</table>\n",
       "</div>"
      ],
      "text/plain": [
       "    Unnamed: 0_x                                 session_id  \\\n",
       "2              1   905544597018549464.1636867290.1636867290   \n",
       "19             3  9055447046360770272.1622255328.1622255328   \n",
       "20             3  9055447046360770272.1622255328.1622255328   \n",
       "21             3  9055447046360770272.1622255328.1622255328   \n",
       "22             4  9055447046360770272.1622255345.1622255345   \n",
       "23             4  9055447046360770272.1622255345.1622255345   \n",
       "24             5  9055447192389856083.1622453074.1622453074   \n",
       "25             5  9055447192389856083.1622453074.1622453074   \n",
       "26             5  9055447192389856083.1622453074.1622453074   \n",
       "27             5  9055447192389856083.1622453074.1622453074   \n",
       "\n",
       "            client_id  visit_number            utm_source utm_medium  \\\n",
       "2    210838531.163687             1  MvfHsxITijuriZxsqZqt        cpm   \n",
       "19  2108385564.162225             1  kjsLglQLzykiRbcDiGcD        cpc   \n",
       "20  2108385564.162225             1  kjsLglQLzykiRbcDiGcD        cpc   \n",
       "21  2108385564.162225             1  kjsLglQLzykiRbcDiGcD        cpc   \n",
       "22  2108385564.162225             2  kjsLglQLzykiRbcDiGcD        cpc   \n",
       "23  2108385564.162225             2  kjsLglQLzykiRbcDiGcD        cpc   \n",
       "24  2108385598.162245             1  kjsLglQLzykiRbcDiGcD    organic   \n",
       "25  2108385598.162245             1  kjsLglQLzykiRbcDiGcD    organic   \n",
       "26  2108385598.162245             1  kjsLglQLzykiRbcDiGcD    organic   \n",
       "27  2108385598.162245             1  kjsLglQLzykiRbcDiGcD    organic   \n",
       "\n",
       "            utm_campaign           utm_keyword device_category device_os  \\\n",
       "2   FTjNLDyTrXaWYgZymFkV  IGUCNvHlhfHpROGclCit          mobile   Android   \n",
       "19               unknown               unknown          mobile   unknown   \n",
       "20               unknown               unknown          mobile   unknown   \n",
       "21               unknown               unknown          mobile   unknown   \n",
       "22               unknown               unknown          mobile   unknown   \n",
       "23               unknown               unknown          mobile   unknown   \n",
       "24  LTuZkdKfxRGVceoWkVyg               unknown          mobile   unknown   \n",
       "25  LTuZkdKfxRGVceoWkVyg               unknown          mobile   unknown   \n",
       "26  LTuZkdKfxRGVceoWkVyg               unknown          mobile   unknown   \n",
       "27  LTuZkdKfxRGVceoWkVyg               unknown          mobile   unknown   \n",
       "\n",
       "   device_brand    device_browser geo_country          geo_city  Unnamed: 0_y  \\\n",
       "2       Samsung  Samsung Internet      Russia            Moscow     1211514.0   \n",
       "19       Xiaomi            Chrome      Russia            Moscow     5265125.0   \n",
       "20       Xiaomi            Chrome      Russia            Moscow     5271655.0   \n",
       "21       Xiaomi            Chrome      Russia            Moscow     5275439.0   \n",
       "22       Xiaomi            Chrome      Russia            Moscow     5306913.0   \n",
       "23       Xiaomi            Chrome      Russia            Moscow     5313952.0   \n",
       "24        Apple            Safari      Russia  Saint Petersburg     4638963.0   \n",
       "25        Apple            Safari      Russia  Saint Petersburg     4643037.0   \n",
       "26        Apple            Safari      Russia  Saint Petersburg     4669742.0   \n",
       "27        Apple            Safari      Russia  Saint Petersburg     4669745.0   \n",
       "\n",
       "    hit_number           hit_referer  \\\n",
       "2          3.0                 other   \n",
       "19         2.0  HbolMJUevblAbkHClEQa   \n",
       "20         6.0  HbolMJUevblAbkHClEQa   \n",
       "21         7.0  HbolMJUevblAbkHClEQa   \n",
       "22         3.0  HbolMJUevblAbkHClEQa   \n",
       "23         2.0  HbolMJUevblAbkHClEQa   \n",
       "24         5.0  HbolMJUevblAbkHClEQa   \n",
       "25         6.0  HbolMJUevblAbkHClEQa   \n",
       "26        25.0  HbolMJUevblAbkHClEQa   \n",
       "27        27.0  HbolMJUevblAbkHClEQa   \n",
       "\n",
       "                                        hit_page_path            event_action  \n",
       "2                              podpiska.sberauto.com/             sub_landing  \n",
       "19                             podpiska.sberauto.com/             sub_landing  \n",
       "20                             podpiska.sberauto.com/             sub_landing  \n",
       "21                             podpiska.sberauto.com/     sub_view_cars_click  \n",
       "22  sberauto.com/cars?city=1&rental_page=rental_on...               quiz_show  \n",
       "23  sberauto.com/cars?city=1&rental_page=rental_on...  search_form_search_btn  \n",
       "24                             podpiska.sberauto.com/             sub_landing  \n",
       "25                             podpiska.sberauto.com/     sub_view_cars_click  \n",
       "26  sberauto.com/cars/e1f862ea?rental_page=rental_car               view_card  \n",
       "27  sberauto.com/cars/e1f862ea?rental_page=rental_car               view_card  "
      ]
     },
     "execution_count": 52,
     "metadata": {},
     "output_type": "execute_result"
    }
   ],
   "source": [
    "df_msc.head(10)"
   ]
  },
  {
   "cell_type": "code",
   "execution_count": 53,
   "id": "1c97b83c",
   "metadata": {},
   "outputs": [],
   "source": [
    "df_other_cities = df_merge[~df_merge.geo_city.isin(mo_spb_list)]"
   ]
  },
  {
   "cell_type": "code",
   "execution_count": 54,
   "id": "3ccd8e8f",
   "metadata": {},
   "outputs": [
    {
     "data": {
      "text/html": [
       "<div>\n",
       "<style scoped>\n",
       "    .dataframe tbody tr th:only-of-type {\n",
       "        vertical-align: middle;\n",
       "    }\n",
       "\n",
       "    .dataframe tbody tr th {\n",
       "        vertical-align: top;\n",
       "    }\n",
       "\n",
       "    .dataframe thead th {\n",
       "        text-align: right;\n",
       "    }\n",
       "</style>\n",
       "<table border=\"1\" class=\"dataframe\">\n",
       "  <thead>\n",
       "    <tr style=\"text-align: right;\">\n",
       "      <th></th>\n",
       "      <th>Unnamed: 0_x</th>\n",
       "      <th>session_id</th>\n",
       "      <th>client_id</th>\n",
       "      <th>visit_number</th>\n",
       "      <th>utm_source</th>\n",
       "      <th>utm_medium</th>\n",
       "      <th>utm_campaign</th>\n",
       "      <th>utm_keyword</th>\n",
       "      <th>device_category</th>\n",
       "      <th>device_os</th>\n",
       "      <th>device_brand</th>\n",
       "      <th>device_browser</th>\n",
       "      <th>geo_country</th>\n",
       "      <th>geo_city</th>\n",
       "      <th>Unnamed: 0_y</th>\n",
       "      <th>hit_number</th>\n",
       "      <th>hit_referer</th>\n",
       "      <th>hit_page_path</th>\n",
       "      <th>event_action</th>\n",
       "    </tr>\n",
       "  </thead>\n",
       "  <tbody>\n",
       "    <tr>\n",
       "      <th>0</th>\n",
       "      <td>0</td>\n",
       "      <td>9055434745589932991.1637753792.1637753792</td>\n",
       "      <td>2108382700.163776</td>\n",
       "      <td>1</td>\n",
       "      <td>ZpYIoDJMcFzVoPFsHGJL</td>\n",
       "      <td>banner</td>\n",
       "      <td>LEoPHuyFvzoNfnzGgfcd</td>\n",
       "      <td>puhZPIYqKXeFPaUviSjo</td>\n",
       "      <td>mobile</td>\n",
       "      <td>Android</td>\n",
       "      <td>Huawei</td>\n",
       "      <td>Chrome</td>\n",
       "      <td>Russia</td>\n",
       "      <td>Zlatoust</td>\n",
       "      <td>1614540.0</td>\n",
       "      <td>3.0</td>\n",
       "      <td>other</td>\n",
       "      <td>podpiska.sberauto.com/</td>\n",
       "      <td>sub_landing</td>\n",
       "    </tr>\n",
       "    <tr>\n",
       "      <th>1</th>\n",
       "      <td>0</td>\n",
       "      <td>9055434745589932991.1637753792.1637753792</td>\n",
       "      <td>2108382700.163776</td>\n",
       "      <td>1</td>\n",
       "      <td>ZpYIoDJMcFzVoPFsHGJL</td>\n",
       "      <td>banner</td>\n",
       "      <td>LEoPHuyFvzoNfnzGgfcd</td>\n",
       "      <td>puhZPIYqKXeFPaUviSjo</td>\n",
       "      <td>mobile</td>\n",
       "      <td>Android</td>\n",
       "      <td>Huawei</td>\n",
       "      <td>Chrome</td>\n",
       "      <td>Russia</td>\n",
       "      <td>Zlatoust</td>\n",
       "      <td>1615093.0</td>\n",
       "      <td>4.0</td>\n",
       "      <td>other</td>\n",
       "      <td>podpiska.sberauto.com/</td>\n",
       "      <td>sub_view_cars_click</td>\n",
       "    </tr>\n",
       "    <tr>\n",
       "      <th>3</th>\n",
       "      <td>2</td>\n",
       "      <td>9055446045651783499.1640648526.1640648526</td>\n",
       "      <td>2108385331.164065</td>\n",
       "      <td>1</td>\n",
       "      <td>ZpYIoDJMcFzVoPFsHGJL</td>\n",
       "      <td>banner</td>\n",
       "      <td>LEoPHuyFvzoNfnzGgfcd</td>\n",
       "      <td>puhZPIYqKXeFPaUviSjo</td>\n",
       "      <td>mobile</td>\n",
       "      <td>Android</td>\n",
       "      <td>Huawei</td>\n",
       "      <td>Chrome</td>\n",
       "      <td>Russia</td>\n",
       "      <td>Krasnoyarsk</td>\n",
       "      <td>1496106.0</td>\n",
       "      <td>10.0</td>\n",
       "      <td>other</td>\n",
       "      <td>sberauto.com/cars?utm_source_initial=sbol&amp;utm_...</td>\n",
       "      <td>search_form_region</td>\n",
       "    </tr>\n",
       "    <tr>\n",
       "      <th>4</th>\n",
       "      <td>2</td>\n",
       "      <td>9055446045651783499.1640648526.1640648526</td>\n",
       "      <td>2108385331.164065</td>\n",
       "      <td>1</td>\n",
       "      <td>ZpYIoDJMcFzVoPFsHGJL</td>\n",
       "      <td>banner</td>\n",
       "      <td>LEoPHuyFvzoNfnzGgfcd</td>\n",
       "      <td>puhZPIYqKXeFPaUviSjo</td>\n",
       "      <td>mobile</td>\n",
       "      <td>Android</td>\n",
       "      <td>Huawei</td>\n",
       "      <td>Chrome</td>\n",
       "      <td>Russia</td>\n",
       "      <td>Krasnoyarsk</td>\n",
       "      <td>2057760.0</td>\n",
       "      <td>13.0</td>\n",
       "      <td>other</td>\n",
       "      <td>sberauto.com/cars?utm_source_initial=sbol&amp;utm_...</td>\n",
       "      <td>search_form_region</td>\n",
       "    </tr>\n",
       "    <tr>\n",
       "      <th>5</th>\n",
       "      <td>2</td>\n",
       "      <td>9055446045651783499.1640648526.1640648526</td>\n",
       "      <td>2108385331.164065</td>\n",
       "      <td>1</td>\n",
       "      <td>ZpYIoDJMcFzVoPFsHGJL</td>\n",
       "      <td>banner</td>\n",
       "      <td>LEoPHuyFvzoNfnzGgfcd</td>\n",
       "      <td>puhZPIYqKXeFPaUviSjo</td>\n",
       "      <td>mobile</td>\n",
       "      <td>Android</td>\n",
       "      <td>Huawei</td>\n",
       "      <td>Chrome</td>\n",
       "      <td>Russia</td>\n",
       "      <td>Krasnoyarsk</td>\n",
       "      <td>2057761.0</td>\n",
       "      <td>20.0</td>\n",
       "      <td>other</td>\n",
       "      <td>sberauto.com/cars?utm_source_initial=sbol&amp;utm_...</td>\n",
       "      <td>search_form_region</td>\n",
       "    </tr>\n",
       "  </tbody>\n",
       "</table>\n",
       "</div>"
      ],
      "text/plain": [
       "   Unnamed: 0_x                                 session_id          client_id  \\\n",
       "0             0  9055434745589932991.1637753792.1637753792  2108382700.163776   \n",
       "1             0  9055434745589932991.1637753792.1637753792  2108382700.163776   \n",
       "3             2  9055446045651783499.1640648526.1640648526  2108385331.164065   \n",
       "4             2  9055446045651783499.1640648526.1640648526  2108385331.164065   \n",
       "5             2  9055446045651783499.1640648526.1640648526  2108385331.164065   \n",
       "\n",
       "   visit_number            utm_source utm_medium          utm_campaign  \\\n",
       "0             1  ZpYIoDJMcFzVoPFsHGJL     banner  LEoPHuyFvzoNfnzGgfcd   \n",
       "1             1  ZpYIoDJMcFzVoPFsHGJL     banner  LEoPHuyFvzoNfnzGgfcd   \n",
       "3             1  ZpYIoDJMcFzVoPFsHGJL     banner  LEoPHuyFvzoNfnzGgfcd   \n",
       "4             1  ZpYIoDJMcFzVoPFsHGJL     banner  LEoPHuyFvzoNfnzGgfcd   \n",
       "5             1  ZpYIoDJMcFzVoPFsHGJL     banner  LEoPHuyFvzoNfnzGgfcd   \n",
       "\n",
       "            utm_keyword device_category device_os device_brand device_browser  \\\n",
       "0  puhZPIYqKXeFPaUviSjo          mobile   Android       Huawei         Chrome   \n",
       "1  puhZPIYqKXeFPaUviSjo          mobile   Android       Huawei         Chrome   \n",
       "3  puhZPIYqKXeFPaUviSjo          mobile   Android       Huawei         Chrome   \n",
       "4  puhZPIYqKXeFPaUviSjo          mobile   Android       Huawei         Chrome   \n",
       "5  puhZPIYqKXeFPaUviSjo          mobile   Android       Huawei         Chrome   \n",
       "\n",
       "  geo_country     geo_city  Unnamed: 0_y  hit_number hit_referer  \\\n",
       "0      Russia     Zlatoust     1614540.0         3.0       other   \n",
       "1      Russia     Zlatoust     1615093.0         4.0       other   \n",
       "3      Russia  Krasnoyarsk     1496106.0        10.0       other   \n",
       "4      Russia  Krasnoyarsk     2057760.0        13.0       other   \n",
       "5      Russia  Krasnoyarsk     2057761.0        20.0       other   \n",
       "\n",
       "                                       hit_page_path         event_action  \n",
       "0                             podpiska.sberauto.com/          sub_landing  \n",
       "1                             podpiska.sberauto.com/  sub_view_cars_click  \n",
       "3  sberauto.com/cars?utm_source_initial=sbol&utm_...   search_form_region  \n",
       "4  sberauto.com/cars?utm_source_initial=sbol&utm_...   search_form_region  \n",
       "5  sberauto.com/cars?utm_source_initial=sbol&utm_...   search_form_region  "
      ]
     },
     "execution_count": 54,
     "metadata": {},
     "output_type": "execute_result"
    }
   ],
   "source": [
    "df_other_cities.head(5)"
   ]
  },
  {
   "cell_type": "code",
   "execution_count": 55,
   "id": "505bd51a",
   "metadata": {},
   "outputs": [
    {
     "data": {
      "text/plain": [
       "68982"
      ]
     },
     "execution_count": 55,
     "metadata": {},
     "output_type": "execute_result"
    }
   ],
   "source": [
    "df_msc.event_action.isin(aim).sum()"
   ]
  },
  {
   "cell_type": "code",
   "execution_count": 56,
   "id": "2d7a95db",
   "metadata": {},
   "outputs": [
    {
     "data": {
      "text/plain": [
       "9797884"
      ]
     },
     "execution_count": 56,
     "metadata": {},
     "output_type": "execute_result"
    }
   ],
   "source": [
    "len(df_msc)"
   ]
  },
  {
   "cell_type": "code",
   "execution_count": 57,
   "id": "73da0fb7",
   "metadata": {},
   "outputs": [
    {
     "name": "stdout",
     "output_type": "stream",
     "text": [
      "0.7040499765051311\n"
     ]
    }
   ],
   "source": [
    "cr_msc = df_msc.event_action.isin(aim).sum()/len(df_msc)*100\n",
    "print(cr_msc)"
   ]
  },
  {
   "cell_type": "code",
   "execution_count": 58,
   "id": "9ddf6ea8",
   "metadata": {},
   "outputs": [
    {
     "data": {
      "text/plain": [
       "33860"
      ]
     },
     "execution_count": 58,
     "metadata": {},
     "output_type": "execute_result"
    }
   ],
   "source": [
    "df_other_cities.event_action.isin(aim).sum()"
   ]
  },
  {
   "cell_type": "code",
   "execution_count": 59,
   "id": "001675a6",
   "metadata": {},
   "outputs": [
    {
     "data": {
      "text/plain": [
       "6015111"
      ]
     },
     "execution_count": 59,
     "metadata": {},
     "output_type": "execute_result"
    }
   ],
   "source": [
    "len(df_other_cities)"
   ]
  },
  {
   "cell_type": "code",
   "execution_count": 60,
   "id": "19ae5dbc",
   "metadata": {},
   "outputs": [
    {
     "name": "stdout",
     "output_type": "stream",
     "text": [
      "0.5629156303183765\n"
     ]
    }
   ],
   "source": [
    "cr_other_cities = df_other_cities.event_action.isin(aim).sum()/len(df_other_cities)*100\n",
    "print(cr_other_cities)"
   ]
  },
  {
   "cell_type": "markdown",
   "id": "a295bb9c",
   "metadata": {},
   "source": [
    "#  Из каких источников / кампаний / устройств / локаций к нам идёт самый целевой трафик (c точки зрения CR и объема трафика)"
   ]
  },
  {
   "cell_type": "code",
   "execution_count": 61,
   "id": "c9ce0efa",
   "metadata": {},
   "outputs": [],
   "source": [
    "#Выделим датасет с целевыми действиями"
   ]
  },
  {
   "cell_type": "code",
   "execution_count": 62,
   "id": "b48dfa7b",
   "metadata": {},
   "outputs": [],
   "source": [
    "df_aim = df_merge[df_merge.event_action.isin(aim)]"
   ]
  },
  {
   "cell_type": "markdown",
   "id": "3aa56bc7",
   "metadata": {},
   "source": [
    "Определим из каких источников идет наибольшее кол-во целевого траффика"
   ]
  },
  {
   "cell_type": "code",
   "execution_count": 113,
   "id": "69f34e3b",
   "metadata": {},
   "outputs": [
    {
     "data": {
      "text/plain": [
       "count     102842\n",
       "unique       631\n",
       "top       Moscow\n",
       "freq       51249\n",
       "Name: geo_city, dtype: object"
      ]
     },
     "execution_count": 113,
     "metadata": {},
     "output_type": "execute_result"
    }
   ],
   "source": [
    "df_aim.geo_city.describe()"
   ]
  },
  {
   "cell_type": "code",
   "execution_count": 64,
   "id": "dbfba777",
   "metadata": {},
   "outputs": [
    {
     "data": {
      "text/plain": [
       "count     102842\n",
       "unique         3\n",
       "top       mobile\n",
       "freq       76834\n",
       "Name: device_category, dtype: object"
      ]
     },
     "execution_count": 64,
     "metadata": {},
     "output_type": "execute_result"
    }
   ],
   "source": [
    "df_aim.device_category.describe()"
   ]
  },
  {
   "cell_type": "code",
   "execution_count": 65,
   "id": "9d9174f2",
   "metadata": {},
   "outputs": [
    {
     "data": {
      "text/plain": [
       "count     102842\n",
       "unique        34\n",
       "top       banner\n",
       "freq       30290\n",
       "Name: utm_medium, dtype: object"
      ]
     },
     "execution_count": 65,
     "metadata": {},
     "output_type": "execute_result"
    }
   ],
   "source": [
    "df_aim.utm_medium.describe()"
   ]
  },
  {
   "cell_type": "markdown",
   "id": "d10fccb8",
   "metadata": {},
   "source": [
    "Конверсии по типам устройств"
   ]
  },
  {
   "cell_type": "code",
   "execution_count": 66,
   "id": "e7e21b99",
   "metadata": {},
   "outputs": [
    {
     "data": {
      "text/plain": [
       "0.6566035988002803"
      ]
     },
     "execution_count": 66,
     "metadata": {},
     "output_type": "execute_result"
    }
   ],
   "source": [
    "cr_mob = len(df_aim[df_aim.device_category == 'mobile'])/len(df_merge[df_merge.device_category == 'mobile'])*100\n",
    "cr_mob"
   ]
  },
  {
   "cell_type": "code",
   "execution_count": 67,
   "id": "a23fe2d0",
   "metadata": {},
   "outputs": [
    {
     "data": {
      "text/plain": [
       "0.6366093635016011"
      ]
     },
     "execution_count": 67,
     "metadata": {},
     "output_type": "execute_result"
    }
   ],
   "source": [
    "cr_desc = len(df_aim[df_aim.device_category == 'desktop'])/len(df_merge[df_merge.device_category == 'desktop'])*100\n",
    "cr_desc"
   ]
  },
  {
   "cell_type": "code",
   "execution_count": 68,
   "id": "d2991794",
   "metadata": {},
   "outputs": [
    {
     "data": {
      "text/plain": [
       "0.5238434358651292"
      ]
     },
     "execution_count": 68,
     "metadata": {},
     "output_type": "execute_result"
    }
   ],
   "source": [
    "cr_tablet = len(df_aim[df_aim.device_category == 'tablet'])/len(df_merge[df_merge.device_category == 'tablet'])*100\n",
    "cr_tablet"
   ]
  },
  {
   "cell_type": "code",
   "execution_count": 69,
   "id": "1f4c990b",
   "metadata": {},
   "outputs": [],
   "source": [
    "#видим, что конверсия по моб устройствам наибольшая"
   ]
  },
  {
   "cell_type": "markdown",
   "id": "c222121f",
   "metadata": {},
   "source": [
    "Конверсия по источникам перехода"
   ]
  },
  {
   "cell_type": "code",
   "execution_count": 70,
   "id": "d81ab404",
   "metadata": {},
   "outputs": [],
   "source": [
    "utm_list = df_merge.utm_medium.unique().tolist()"
   ]
  },
  {
   "cell_type": "code",
   "execution_count": 71,
   "id": "27e3d58c",
   "metadata": {},
   "outputs": [],
   "source": [
    "cr_utm_list = {}"
   ]
  },
  {
   "cell_type": "code",
   "execution_count": 72,
   "id": "92644308",
   "metadata": {},
   "outputs": [
    {
     "data": {
      "text/plain": [
       "[('link', 22.811671087533156),\n",
       " ('dom_click', 20.0),\n",
       " ('landing', 4.646840148698884),\n",
       " ('medium', 3.9215686274509802),\n",
       " ('fb_smm', 3.3783783783783785),\n",
       " ('social', 2.564102564102564),\n",
       " ('(not set)', 2.289416846652268),\n",
       " ('sms', 1.717557251908397),\n",
       " ('static', 1.4598540145985401),\n",
       " ('smm', 1.380984900220047),\n",
       " ('cpa', 0.9938955182674316),\n",
       " ('CPM', 0.9615384615384616),\n",
       " ('referral', 0.8954061099636402),\n",
       " ('clicks', 0.8764144663856224),\n",
       " ('smartbanner', 0.7645785715730496),\n",
       " ('push', 0.7362089190288678),\n",
       " ('cpm', 0.6501503880531039),\n",
       " ('cpc', 0.6285556350276477),\n",
       " ('organic', 0.6233501017262121),\n",
       " ('(none)', 0.6187926427747514),\n",
       " ('banner', 0.6149468423220669),\n",
       " ('cpv', 0.5760452141149193),\n",
       " ('blogger_channel', 0.5299241166977602),\n",
       " ('app', 0.5155588289449456),\n",
       " ('yandex_cpc', 0.3968253968253968),\n",
       " ('post', 0.37447988904299584),\n",
       " ('email', 0.34622805604101853),\n",
       " ('partner', 0.3424657534246575),\n",
       " ('outlook', 0.3047748052827633),\n",
       " ('tg', 0.2034617993099991),\n",
       " ('stories', 0.17134379505610464),\n",
       " ('blogger_stories', 0.14779513784158774),\n",
       " ('info_text', 0.11733646230566148),\n",
       " ('blogger_header', 0.0689893066574681),\n",
       " ('vk_smm', 0.0),\n",
       " ('qr', 0.0),\n",
       " ('nkp', 0.0),\n",
       " ('google_cpc', 0.0),\n",
       " ('article', 0.0),\n",
       " ('users_msk', 0.0),\n",
       " ('ok_smm', 0.0),\n",
       " ('cbaafe', 0.0),\n",
       " ('Sbol_catalog', 0.0),\n",
       " ('landing_interests', 0.0),\n",
       " ('web_polka', 0.0),\n",
       " ('linktest', 0.0),\n",
       " ('sber_app', 0.0),\n",
       " ('tablet', 0.0),\n",
       " ('promo_sbol', 0.0),\n",
       " ('reach', 0.0),\n",
       " ('desktop', 0.0),\n",
       " ('catalogue', 0.0),\n",
       " ('main_polka', 0.0),\n",
       " ('last', 0.0),\n",
       " ('qrcodevideo', 0.0),\n",
       " ('promo_sber', 0.0)]"
      ]
     },
     "execution_count": 72,
     "metadata": {},
     "output_type": "execute_result"
    }
   ],
   "source": [
    "for utm in utm_list:\n",
    "    \n",
    "    cr_utm = len(df_aim[df_aim.utm_medium == utm])/len(df_merge[df_merge.utm_medium == utm])*100\n",
    "    cr_utm_list.update({utm:cr_utm})\n",
    "cr_utm_list = sorted(cr_utm_list.items(), key=lambda kv: kv[1], reverse=True)\n",
    "cr_utm_list"
   ]
  },
  {
   "cell_type": "code",
   "execution_count": 153,
   "id": "db68ccb5",
   "metadata": {},
   "outputs": [],
   "source": [
    "cr_utm_list = cr_utm_list[0:19]"
   ]
  },
  {
   "cell_type": "code",
   "execution_count": 154,
   "id": "22ab6cb8",
   "metadata": {},
   "outputs": [],
   "source": [
    "cr_utm_list = dict(cr_utm_list)"
   ]
  },
  {
   "cell_type": "code",
   "execution_count": 176,
   "id": "2d2e1558",
   "metadata": {},
   "outputs": [
    {
     "data": {
      "image/png": "[encoded data removed]",
      "text/plain": [
       "<Figure size 1080x360 with 1 Axes>"
      ]
     },
     "metadata": {
      "needs_background": "light"
     },
     "output_type": "display_data"
    }
   ],
   "source": [
    "plt.figure(figsize = (15,5))\n",
    "ax = plt.bar(cr_utm_list.keys(),cr_utm_list.values(),color = 'grey')\n",
    "plt.rc('font', size = 20)\n",
    "plt.xticks(rotation = 90 )\n",
    "\n",
    "plt.show()"
   ]
  },
  {
   "cell_type": "markdown",
   "id": "4c6bf514",
   "metadata": {},
   "source": [
    "Видим ,что конверсия с прямых ссылок, с дом-клик и лендинга наибольшие"
   ]
  },
  {
   "cell_type": "markdown",
   "id": "972ec9f9",
   "metadata": {},
   "source": [
    "Конверсия по локации"
   ]
  },
  {
   "cell_type": "code",
   "execution_count": 73,
   "id": "de36fc96",
   "metadata": {},
   "outputs": [],
   "source": [
    "geo_list = df_merge.geo_city.unique().tolist()"
   ]
  },
  {
   "cell_type": "code",
   "execution_count": 74,
   "id": "b58d99a3",
   "metadata": {},
   "outputs": [],
   "source": [
    "geo_list = geo_list[0:20]"
   ]
  },
  {
   "cell_type": "code",
   "execution_count": 75,
   "id": "2ca37a94",
   "metadata": {},
   "outputs": [],
   "source": [
    "cr_geo_dict = {}"
   ]
  },
  {
   "cell_type": "code",
   "execution_count": 76,
   "id": "08a8382b",
   "metadata": {},
   "outputs": [
    {
     "data": {
      "text/plain": [
       "[('Kazan', 0.9053340916781258),\n",
       " ('Moscow', 0.7482131227024846),\n",
       " ('Tula', 0.7357496902106567),\n",
       " ('Sochi', 0.7333365028049824),\n",
       " ('Alexandrov', 0.7301554187962866),\n",
       " ('Balashikha', 0.6051604689993635),\n",
       " ('Saint Petersburg', 0.5761972158298188),\n",
       " ('Pushkino', 0.5544683626875407),\n",
       " ('Zlatoust', 0.5494505494505495),\n",
       " ('Krasnoyarsk', 0.542298556550338),\n",
       " ('Yaroslavl', 0.5388850573369025),\n",
       " ('Reutov', 0.5219074876888757),\n",
       " ('Novorossiysk', 0.5094660041512045),\n",
       " ('Mytishchi', 0.4995836802664446),\n",
       " ('(not set)', 0.49188727015041067),\n",
       " ('Yekaterinburg', 0.48527534232484404),\n",
       " ('Vladivostok', 0.45644235785080856),\n",
       " ('Ulyanovsk', 0.4507175898469933),\n",
       " ('Astrakhan', 0.34715764676709443),\n",
       " ('Sunny Isles Beach', 0.0)]"
      ]
     },
     "execution_count": 76,
     "metadata": {},
     "output_type": "execute_result"
    }
   ],
   "source": [
    "for geo in geo_list:\n",
    "    \n",
    "    cr_geo = len(df_aim[df_aim.geo_city == geo])/len(df_merge[df_merge.geo_city == geo])*100\n",
    "    cr_geo_dict.update({geo:cr_geo})\n",
    "cr_geo_dict = sorted(cr_geo_dict.items(), key=lambda kv: kv[1], reverse=True)\n",
    "cr_geo_dict"
   ]
  },
  {
   "cell_type": "code",
   "execution_count": 126,
   "id": "3999a0f1",
   "metadata": {},
   "outputs": [],
   "source": [
    "cr_geo_dict = dict(cr_geo_dict)"
   ]
  },
  {
   "cell_type": "code",
   "execution_count": 150,
   "id": "2ef973d2",
   "metadata": {},
   "outputs": [
    {
     "data": {
      "image/png": "[encoded data removed]",
      "text/plain": [
       "<Figure size 1440x720 with 1 Axes>"
      ]
     },
     "metadata": {
      "needs_background": "light"
     },
     "output_type": "display_data"
    }
   ],
   "source": [
    "plt.figure(figsize=(20,10))\n",
    "plt.bar(cr_geo_dict.keys(), cr_geo_dict.values(), color='grey')\n",
    "plt.rc('font', size=40)   \n",
    "plt.xticks(rotation=90)\n",
    "plt.show()"
   ]
  },
  {
   "cell_type": "markdown",
   "id": "03a126af",
   "metadata": {},
   "source": [
    "# Определим какие авто пользуются наибольшим спросом"
   ]
  },
  {
   "cell_type": "code",
   "execution_count": 77,
   "id": "91b31c2b",
   "metadata": {},
   "outputs": [],
   "source": [
    "df_merge_hpp_2 = df_merge.copy()"
   ]
  },
  {
   "cell_type": "code",
   "execution_count": 78,
   "id": "e2f0386d",
   "metadata": {},
   "outputs": [],
   "source": [
    "df_merge_hpp_2.hit_page_path = df_merge_hpp_2.hit_page_path.apply(lambda x: str(x))"
   ]
  },
  {
   "cell_type": "code",
   "execution_count": 79,
   "id": "a035372d",
   "metadata": {},
   "outputs": [],
   "source": [
    "#Выделим названия марки авто из ссылки в hit_page_path"
   ]
  },
  {
   "cell_type": "code",
   "execution_count": 80,
   "id": "4e69acea",
   "metadata": {},
   "outputs": [],
   "source": [
    "df_merge_hpp_2.hit_page_path =df_merge_hpp_2.hit_page_path.apply(lambda x: x.split('/')[3] if len(x.split('/'))>=4 else 'other')"
   ]
  },
  {
   "cell_type": "code",
   "execution_count": 81,
   "id": "8fce4adf",
   "metadata": {},
   "outputs": [],
   "source": [
    "df_merge_hpp_2.hit_page_path = df_merge_hpp_2.hit_page_path.apply(lambda x: x.split('?')[0] if len(x.split('?')) > 1 else x)"
   ]
  },
  {
   "cell_type": "code",
   "execution_count": 82,
   "id": "c4996e35",
   "metadata": {},
   "outputs": [],
   "source": [
    "df_merge_hpp_2.hit_page_path = df_merge_hpp_2.hit_page_path.apply(lambda x: 'other' if x=='sberauto.com' or x=='cars' or x=='zen.yandex.com' else x)"
   ]
  },
  {
   "cell_type": "code",
   "execution_count": 83,
   "id": "dabd7774",
   "metadata": {},
   "outputs": [
    {
     "data": {
      "text/plain": [
       "other            12405157\n",
       "skoda              742324\n",
       "mercedes-benz      471174\n",
       "volkswagen         414428\n",
       "lada-vaz           402288\n",
       "kia                236024\n",
       "nissan             234999\n",
       "bmw                190688\n",
       "toyota             160578\n",
       "renault            148534\n",
       "porsche             63308\n",
       "lexus               61582\n",
       "audi                60295\n",
       "volvo               51565\n",
       "haval               51521\n",
       "mini                34703\n",
       "peugeot             27267\n",
       "land-rover          24680\n",
       "hyundai             17380\n",
       "                      815\n",
       "Name: hit_page_path, dtype: int64"
      ]
     },
     "execution_count": 83,
     "metadata": {},
     "output_type": "execute_result"
    }
   ],
   "source": [
    "df_merge_hpp_2.hit_page_path.value_counts().head(20)"
   ]
  },
  {
   "cell_type": "code",
   "execution_count": 84,
   "id": "7f7da3cf",
   "metadata": {},
   "outputs": [],
   "source": [
    "#Наибольшим спросом пользуются шкода, мерседес и фольксваген"
   ]
  },
  {
   "cell_type": "code",
   "execution_count": 85,
   "id": "6d769689",
   "metadata": {},
   "outputs": [],
   "source": [
    "#выделим датасет с целевыми действиями из подготовленного датасета с машинами\n",
    "df_aim_cars = df_merge_hpp_2[df_merge_hpp_2.event_action.isin(aim)]"
   ]
  },
  {
   "cell_type": "code",
   "execution_count": 86,
   "id": "638a5435",
   "metadata": {},
   "outputs": [],
   "source": [
    "cars_list = df_merge_hpp_2.hit_page_path.value_counts().head(20).keys().to_list()"
   ]
  },
  {
   "cell_type": "code",
   "execution_count": 87,
   "id": "9a6a2b41",
   "metadata": {},
   "outputs": [
    {
     "data": {
      "text/plain": [
       "'other'"
      ]
     },
     "execution_count": 87,
     "metadata": {},
     "output_type": "execute_result"
    }
   ],
   "source": [
    "cars_list.pop(0)"
   ]
  },
  {
   "cell_type": "code",
   "execution_count": 88,
   "id": "ea214ba0",
   "metadata": {},
   "outputs": [
    {
     "data": {
      "text/plain": [
       "''"
      ]
     },
     "execution_count": 88,
     "metadata": {},
     "output_type": "execute_result"
    }
   ],
   "source": [
    "cars_list.pop(-1)"
   ]
  },
  {
   "cell_type": "code",
   "execution_count": 89,
   "id": "4f1d24f3",
   "metadata": {},
   "outputs": [
    {
     "data": {
      "text/plain": [
       "['skoda',\n",
       " 'mercedes-benz',\n",
       " 'volkswagen',\n",
       " 'lada-vaz',\n",
       " 'kia',\n",
       " 'nissan',\n",
       " 'bmw',\n",
       " 'toyota',\n",
       " 'renault',\n",
       " 'porsche',\n",
       " 'lexus',\n",
       " 'audi',\n",
       " 'volvo',\n",
       " 'haval',\n",
       " 'mini',\n",
       " 'peugeot',\n",
       " 'land-rover',\n",
       " 'hyundai']"
      ]
     },
     "execution_count": 89,
     "metadata": {},
     "output_type": "execute_result"
    }
   ],
   "source": [
    "cars_list"
   ]
  },
  {
   "cell_type": "code",
   "execution_count": 90,
   "id": "0181be57",
   "metadata": {},
   "outputs": [],
   "source": [
    "cr_cars_dict = {}"
   ]
  },
  {
   "cell_type": "code",
   "execution_count": 91,
   "id": "2dad7b8c",
   "metadata": {},
   "outputs": [
    {
     "data": {
      "text/plain": [
       "[('hyundai', 1.8872266973532794),\n",
       " ('lada-vaz', 1.3010579485343834),\n",
       " ('volkswagen', 1.1883849546845289),\n",
       " ('kia', 1.1464935769243807),\n",
       " ('haval', 1.1082859416548592),\n",
       " ('skoda', 1.0829503020244529),\n",
       " ('toyota', 1.0250470176487438),\n",
       " ('renault', 0.8880121722972518),\n",
       " ('nissan', 0.5348958931740134),\n",
       " ('mercedes-benz', 0.5114883249075713),\n",
       " ('bmw', 0.49085417016277894),\n",
       " ('peugeot', 0.48410166134888327),\n",
       " ('volvo', 0.4673712789682924),\n",
       " ('lexus', 0.4189535903348381),\n",
       " ('audi', 0.28194709345716895),\n",
       " ('mini', 0.20171166757917183),\n",
       " ('porsche', 0.2006065584128388),\n",
       " ('land-rover', 0.1620745542949757)]"
      ]
     },
     "execution_count": 91,
     "metadata": {},
     "output_type": "execute_result"
    }
   ],
   "source": [
    "for car in cars_list:\n",
    "    \n",
    "    cr_cars = len(df_aim_cars[df_aim_cars.hit_page_path == car])/len(df_merge_hpp_2[df_merge_hpp_2.hit_page_path == car])*100\n",
    "    cr_cars_dict.update({car:cr_cars})\n",
    "cr_cars_dict = sorted(cr_cars_dict.items(), key=lambda kv: kv[1], reverse=True)\n",
    "cr_cars_dict"
   ]
  },
  {
   "cell_type": "code",
   "execution_count": 92,
   "id": "06f31544",
   "metadata": {},
   "outputs": [],
   "source": [
    "#лучшие конверсии : хендай лада фольксваген киа ..."
   ]
  },
  {
   "cell_type": "code",
   "execution_count": 177,
   "id": "2d15e0f0",
   "metadata": {},
   "outputs": [],
   "source": [
    "cr_cars_dict = dict(cr_cars_dict)"
   ]
  },
  {
   "cell_type": "code",
   "execution_count": 180,
   "id": "aed0a436",
   "metadata": {},
   "outputs": [
    {
     "data": {
      "image/png": "[encoded data removed]",
      "text/plain": [
       "<Figure size 1440x720 with 1 Axes>"
      ]
     },
     "metadata": {
      "needs_background": "light"
     },
     "output_type": "display_data"
    }
   ],
   "source": [
    "plt.figure(figsize = (20,10))\n",
    "plt.bar(cr_cars_dict.keys(),cr_cars_dict.values())\n",
    "plt.xticks(rotation = 90)\n",
    "plt.show()"
   ]
  },
  {
   "cell_type": "markdown",
   "id": "61999d09",
   "metadata": {},
   "source": [
    "# Cтоит ли повышать присутствие в соц сетях"
   ]
  },
  {
   "cell_type": "code",
   "execution_count": 93,
   "id": "7cb0d09d",
   "metadata": {},
   "outputs": [],
   "source": [
    "soc_med_list = ['QxAxdyPLuQMEcrdZWdWb', 'MvfHsxITijuriZxsqZqt', 'ISrKoXQCxqqYvAZICvjs',\n",
    "'IZEXUFLARCUMynmHNBGo', 'PlbkrSYoHuZBWfYjYnfw',\n",
    "'gVRrcxiDQubJiljoTbGm']"
   ]
  },
  {
   "cell_type": "code",
   "execution_count": 94,
   "id": "22a4db9b",
   "metadata": {},
   "outputs": [
    {
     "data": {
      "text/plain": [
       "14.743054189098956"
      ]
     },
     "execution_count": 94,
     "metadata": {},
     "output_type": "execute_result"
    }
   ],
   "source": [
    "df_sessions.utm_source.isin(soc_med_list).sum()/len(df_sessions)*100"
   ]
  },
  {
   "cell_type": "code",
   "execution_count": 95,
   "id": "b60c45ec",
   "metadata": {},
   "outputs": [],
   "source": [
    "#видим что реклама в соц сетях составляет 14% от всех каналов привлечения"
   ]
  },
  {
   "cell_type": "code",
   "execution_count": 96,
   "id": "c56fcc4c",
   "metadata": {},
   "outputs": [],
   "source": [
    "cr_soc_med = df_aim.utm_source.isin(soc_med_list).sum()/df_merge.utm_source.isin(soc_med_list).sum()*100"
   ]
  },
  {
   "cell_type": "code",
   "execution_count": 97,
   "id": "2c0f04d6",
   "metadata": {},
   "outputs": [
    {
     "data": {
      "text/plain": [
       "0.6650700179356692"
      ]
     },
     "execution_count": 97,
     "metadata": {},
     "output_type": "execute_result"
    }
   ],
   "source": [
    "cr_soc_med"
   ]
  },
  {
   "cell_type": "code",
   "execution_count": 98,
   "id": "c1e84cd9",
   "metadata": {},
   "outputs": [],
   "source": [
    "#конверсия не самая высокая,поэтому 14% из общих показов считаю достойным для рекламы в соц сетях.\n",
    "#Если бы конверсия была больше, я бы предположил ,что стоит увеличить присутствие в соц сетях "
   ]
  }
 ],
 "metadata": {
  "kernelspec": {
   "display_name": "Python 3 (ipykernel)",
   "language": "python",
   "name": "python3"
  },
  "language_info": {
   "codemirror_mode": {
    "name": "ipython",
    "version": 3
   },
   "file_extension": ".py",
   "mimetype": "text/x-python",
   "name": "python",
   "nbconvert_exporter": "python",
   "pygments_lexer": "ipython3",
   "version": "3.9.12"
  }
 },
 "nbformat": 4,
 "nbformat_minor": 5
}
